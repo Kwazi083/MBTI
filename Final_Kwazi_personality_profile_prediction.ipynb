{
  "nbformat": 4,
  "nbformat_minor": 0,
  "metadata": {
    "colab": {
      "name": "Final_Kwazi_personality_profile_prediction.ipynb",
      "version": "0.3.2",
      "provenance": [],
      "toc_visible": true,
      "include_colab_link": true
    },
    "language_info": {
      "codemirror_mode": {
        "name": "ipython",
        "version": 3
      },
      "file_extension": ".py",
      "mimetype": "text/x-python",
      "name": "python",
      "nbconvert_exporter": "python",
      "pygments_lexer": "ipython3",
      "version": "3.6.7"
    },
    "kernelspec": {
      "name": "python3",
      "display_name": "Python 3"
    },
    "accelerator": "GPU"
  },
  "cells": [
    {
      "cell_type": "markdown",
      "metadata": {
        "id": "view-in-github",
        "colab_type": "text"
      },
      "source": [
        "<a href=\"https://colab.research.google.com/github/Kwazi083/MBTI/blob/master/Final_Kwazi_personality_profile_prediction.ipynb\" target=\"_parent\"><img src=\"https://colab.research.google.com/assets/colab-badge.svg\" alt=\"Open In Colab\"/></a>"
      ]
    },
    {
      "cell_type": "code",
      "metadata": {
        "id": "3PVjifXZHAGM",
        "colab_type": "code",
        "outputId": "d502a075-b97e-4761-e585-a642b69d255a",
        "colab": {
          "base_uri": "https://localhost:8080/",
          "height": 122
        }
      },
      "source": [
        "# Run this cell to mount your Google Drive.\n",
        "from google.colab import drive\n",
        "drive.mount('/content/drive')"
      ],
      "execution_count": 0,
      "outputs": [
        {
          "output_type": "stream",
          "text": [
            "Go to this URL in a browser: https://accounts.google.com/o/oauth2/auth?client_id=947318989803-6bn6qk8qdgf4n4g3pfee6491hc0brc4i.apps.googleusercontent.com&redirect_uri=urn%3Aietf%3Awg%3Aoauth%3A2.0%3Aoob&scope=email%20https%3A%2F%2Fwww.googleapis.com%2Fauth%2Fdocs.test%20https%3A%2F%2Fwww.googleapis.com%2Fauth%2Fdrive%20https%3A%2F%2Fwww.googleapis.com%2Fauth%2Fdrive.photos.readonly%20https%3A%2F%2Fwww.googleapis.com%2Fauth%2Fpeopleapi.readonly&response_type=code\n",
            "\n",
            "Enter your authorization code:\n",
            "··········\n",
            "Mounted at /content/drive\n"
          ],
          "name": "stdout"
        }
      ]
    },
    {
      "cell_type": "code",
      "metadata": {
        "id": "vGcWvKanVzu1",
        "colab_type": "code",
        "colab": {}
      },
      "source": [
        "#import libraries\n",
        "import numpy as np\n",
        "import pandas as pd\n",
        "import seaborn as sn\n",
        "import matplotlib.pyplot as plt\n",
        "%matplotlib inline\n",
        "from sklearn.model_selection import train_test_split\n",
        "from sklearn.linear_model import LogisticRegression\n",
        "from sklearn.metrics import classification_report, confusion_matrix"
      ],
      "execution_count": 0,
      "outputs": []
    },
    {
      "cell_type": "code",
      "metadata": {
        "id": "JgPthEMaVzu-",
        "colab_type": "code",
        "colab": {}
      },
      "source": [
        "#read train and test data\n",
        "train_df = pd.read_csv('/content/drive/My Drive/Colab Notebooks/Personality Profile Prediction/train.csv')\n",
        "test_df = pd.read_csv('/content/drive/My Drive/Colab Notebooks/Personality Profile Prediction/test.csv')"
      ],
      "execution_count": 0,
      "outputs": []
    },
    {
      "cell_type": "code",
      "metadata": {
        "id": "yt4A9S0FVzvF",
        "colab_type": "code",
        "outputId": "e5721d55-e40a-4ba2-e784-1e72f1d3cc52",
        "colab": {
          "base_uri": "https://localhost:8080/",
          "height": 359
        }
      },
      "source": [
        "#train first few records\n",
        "train_df.head(10)"
      ],
      "execution_count": 0,
      "outputs": [
        {
          "output_type": "execute_result",
          "data": {
            "text/html": [
              "<div>\n",
              "<style scoped>\n",
              "    .dataframe tbody tr th:only-of-type {\n",
              "        vertical-align: middle;\n",
              "    }\n",
              "\n",
              "    .dataframe tbody tr th {\n",
              "        vertical-align: top;\n",
              "    }\n",
              "\n",
              "    .dataframe thead th {\n",
              "        text-align: right;\n",
              "    }\n",
              "</style>\n",
              "<table border=\"1\" class=\"dataframe\">\n",
              "  <thead>\n",
              "    <tr style=\"text-align: right;\">\n",
              "      <th></th>\n",
              "      <th>type</th>\n",
              "      <th>posts</th>\n",
              "    </tr>\n",
              "  </thead>\n",
              "  <tbody>\n",
              "    <tr>\n",
              "      <th>0</th>\n",
              "      <td>INFJ</td>\n",
              "      <td>'http://www.youtube.com/watch?v=qsXHcwe3krw|||...</td>\n",
              "    </tr>\n",
              "    <tr>\n",
              "      <th>1</th>\n",
              "      <td>ENTP</td>\n",
              "      <td>'I'm finding the lack of me in these posts ver...</td>\n",
              "    </tr>\n",
              "    <tr>\n",
              "      <th>2</th>\n",
              "      <td>INTP</td>\n",
              "      <td>'Good one  _____   https://www.youtube.com/wat...</td>\n",
              "    </tr>\n",
              "    <tr>\n",
              "      <th>3</th>\n",
              "      <td>INTJ</td>\n",
              "      <td>'Dear INTP,   I enjoyed our conversation the o...</td>\n",
              "    </tr>\n",
              "    <tr>\n",
              "      <th>4</th>\n",
              "      <td>ENTJ</td>\n",
              "      <td>'You're fired.|||That's another silly misconce...</td>\n",
              "    </tr>\n",
              "    <tr>\n",
              "      <th>5</th>\n",
              "      <td>INTJ</td>\n",
              "      <td>'18/37 @.@|||Science  is not perfect. No scien...</td>\n",
              "    </tr>\n",
              "    <tr>\n",
              "      <th>6</th>\n",
              "      <td>INFJ</td>\n",
              "      <td>'No, I can't draw on my own nails (haha). Thos...</td>\n",
              "    </tr>\n",
              "    <tr>\n",
              "      <th>7</th>\n",
              "      <td>INTJ</td>\n",
              "      <td>'I tend to build up a collection of things on ...</td>\n",
              "    </tr>\n",
              "    <tr>\n",
              "      <th>8</th>\n",
              "      <td>INFJ</td>\n",
              "      <td>I'm not sure, that's a good question. The dist...</td>\n",
              "    </tr>\n",
              "    <tr>\n",
              "      <th>9</th>\n",
              "      <td>INTP</td>\n",
              "      <td>'https://www.youtube.com/watch?v=w8-egj0y8Qs||...</td>\n",
              "    </tr>\n",
              "  </tbody>\n",
              "</table>\n",
              "</div>"
            ],
            "text/plain": [
              "   type                                              posts\n",
              "0  INFJ  'http://www.youtube.com/watch?v=qsXHcwe3krw|||...\n",
              "1  ENTP  'I'm finding the lack of me in these posts ver...\n",
              "2  INTP  'Good one  _____   https://www.youtube.com/wat...\n",
              "3  INTJ  'Dear INTP,   I enjoyed our conversation the o...\n",
              "4  ENTJ  'You're fired.|||That's another silly misconce...\n",
              "5  INTJ  '18/37 @.@|||Science  is not perfect. No scien...\n",
              "6  INFJ  'No, I can't draw on my own nails (haha). Thos...\n",
              "7  INTJ  'I tend to build up a collection of things on ...\n",
              "8  INFJ  I'm not sure, that's a good question. The dist...\n",
              "9  INTP  'https://www.youtube.com/watch?v=w8-egj0y8Qs||..."
            ]
          },
          "metadata": {
            "tags": []
          },
          "execution_count": 4
        }
      ]
    },
    {
      "cell_type": "code",
      "metadata": {
        "id": "PTbqS_lKVzvS",
        "colab_type": "code",
        "outputId": "97a68e80-0970-40d1-f8db-a5a6d8f6c8a7",
        "colab": {}
      },
      "source": [
        "#test first few records\n",
        "test_df.head()"
      ],
      "execution_count": 0,
      "outputs": [
        {
          "output_type": "execute_result",
          "data": {
            "text/html": [
              "<div>\n",
              "<style scoped>\n",
              "    .dataframe tbody tr th:only-of-type {\n",
              "        vertical-align: middle;\n",
              "    }\n",
              "\n",
              "    .dataframe tbody tr th {\n",
              "        vertical-align: top;\n",
              "    }\n",
              "\n",
              "    .dataframe thead th {\n",
              "        text-align: right;\n",
              "    }\n",
              "</style>\n",
              "<table border=\"1\" class=\"dataframe\">\n",
              "  <thead>\n",
              "    <tr style=\"text-align: right;\">\n",
              "      <th></th>\n",
              "      <th>id</th>\n",
              "      <th>posts</th>\n",
              "    </tr>\n",
              "  </thead>\n",
              "  <tbody>\n",
              "    <tr>\n",
              "      <th>0</th>\n",
              "      <td>1</td>\n",
              "      <td>Musical  Linguistic Logic &amp; Naturalist (tied)|...</td>\n",
              "    </tr>\n",
              "    <tr>\n",
              "      <th>1</th>\n",
              "      <td>2</td>\n",
              "      <td>'You: hello :) Stranger: hii You: how are you ...</td>\n",
              "    </tr>\n",
              "    <tr>\n",
              "      <th>2</th>\n",
              "      <td>3</td>\n",
              "      <td>'What worked for me was knowing that limerence...</td>\n",
              "    </tr>\n",
              "    <tr>\n",
              "      <th>3</th>\n",
              "      <td>4</td>\n",
              "      <td>'Please forget about him. You should definitel...</td>\n",
              "    </tr>\n",
              "    <tr>\n",
              "      <th>4</th>\n",
              "      <td>5</td>\n",
              "      <td>'Ooh, ENTJ Celestia is actually an interesting...</td>\n",
              "    </tr>\n",
              "  </tbody>\n",
              "</table>\n",
              "</div>"
            ],
            "text/plain": [
              "   id                                              posts\n",
              "0   1  Musical  Linguistic Logic & Naturalist (tied)|...\n",
              "1   2  'You: hello :) Stranger: hii You: how are you ...\n",
              "2   3  'What worked for me was knowing that limerence...\n",
              "3   4  'Please forget about him. You should definitel...\n",
              "4   5  'Ooh, ENTJ Celestia is actually an interesting..."
            ]
          },
          "metadata": {
            "tags": []
          },
          "execution_count": 4
        }
      ]
    },
    {
      "cell_type": "code",
      "metadata": {
        "id": "qgWAxjgRVzvc",
        "colab_type": "code",
        "colab": {}
      },
      "source": [
        "#get IDs from test dataset\n",
        "pred_id = test_df['id']"
      ],
      "execution_count": 0,
      "outputs": []
    },
    {
      "cell_type": "code",
      "metadata": {
        "id": "3goFw1z3Vzvj",
        "colab_type": "code",
        "outputId": "52866aa4-106b-4811-a7b1-1435e910ef33",
        "colab": {}
      },
      "source": [
        "#IDs shape\n",
        "pred_id.shape"
      ],
      "execution_count": 0,
      "outputs": [
        {
          "output_type": "execute_result",
          "data": {
            "text/plain": [
              "(2169,)"
            ]
          },
          "metadata": {
            "tags": []
          },
          "execution_count": 6
        }
      ]
    },
    {
      "cell_type": "code",
      "metadata": {
        "id": "0PWRlRc6Vzv5",
        "colab_type": "code",
        "outputId": "9eed8237-7057-44de-f21e-b7441a295b1e",
        "colab": {}
      },
      "source": [
        "#Test shape\n",
        "test_df.shape"
      ],
      "execution_count": 0,
      "outputs": [
        {
          "output_type": "execute_result",
          "data": {
            "text/plain": [
              "(2169, 2)"
            ]
          },
          "metadata": {
            "tags": []
          },
          "execution_count": 7
        }
      ]
    },
    {
      "cell_type": "code",
      "metadata": {
        "id": "QnriBF2mVzwD",
        "colab_type": "code",
        "outputId": "45793c3c-e52d-4b09-a6ea-f932b2b27432",
        "colab": {}
      },
      "source": [
        "#Train shape\n",
        "train_df.shape"
      ],
      "execution_count": 0,
      "outputs": [
        {
          "output_type": "execute_result",
          "data": {
            "text/plain": [
              "(6506, 2)"
            ]
          },
          "metadata": {
            "tags": []
          },
          "execution_count": 8
        }
      ]
    },
    {
      "cell_type": "code",
      "metadata": {
        "id": "6hz9TtCSVzwM",
        "colab_type": "code",
        "outputId": "ae8c7386-0733-48cd-d9b7-f0242fa9641c",
        "colab": {}
      },
      "source": [
        "#Number of unique items in the 'type' column\n",
        "train_df['type'].unique()"
      ],
      "execution_count": 0,
      "outputs": [
        {
          "output_type": "execute_result",
          "data": {
            "text/plain": [
              "array(['INFJ', 'ENTP', 'INTP', 'INTJ', 'ENTJ', 'ENFJ', 'INFP', 'ENFP',\n",
              "       'ISFP', 'ISTP', 'ISFJ', 'ISTJ', 'ESTP', 'ESFP', 'ESTJ', 'ESFJ'],\n",
              "      dtype=object)"
            ]
          },
          "metadata": {
            "tags": []
          },
          "execution_count": 9
        }
      ]
    },
    {
      "cell_type": "code",
      "metadata": {
        "id": "u_C-d4HLVzwa",
        "colab_type": "code",
        "outputId": "f545be75-de9a-41d5-951b-e47660ebff29",
        "colab": {}
      },
      "source": [
        "#Train dataset information\n",
        "train_df.info()"
      ],
      "execution_count": 0,
      "outputs": [
        {
          "output_type": "stream",
          "text": [
            "<class 'pandas.core.frame.DataFrame'>\n",
            "RangeIndex: 6506 entries, 0 to 6505\n",
            "Data columns (total 2 columns):\n",
            "type     6506 non-null object\n",
            "posts    6506 non-null object\n",
            "dtypes: object(2)\n",
            "memory usage: 101.7+ KB\n"
          ],
          "name": "stdout"
        }
      ]
    },
    {
      "cell_type": "code",
      "metadata": {
        "id": "ise68AWIVzwn",
        "colab_type": "code",
        "outputId": "8118976c-b623-41fe-9a4c-e4f83cdfe73f",
        "colab": {}
      },
      "source": [
        "#Test dataset information\n",
        "test_df.info()"
      ],
      "execution_count": 0,
      "outputs": [
        {
          "output_type": "stream",
          "text": [
            "<class 'pandas.core.frame.DataFrame'>\n",
            "RangeIndex: 2169 entries, 0 to 2168\n",
            "Data columns (total 2 columns):\n",
            "id       2169 non-null int64\n",
            "posts    2169 non-null object\n",
            "dtypes: int64(1), object(1)\n",
            "memory usage: 34.0+ KB\n"
          ],
          "name": "stdout"
        }
      ]
    },
    {
      "cell_type": "code",
      "metadata": {
        "id": "tjiMUv7SVzwx",
        "colab_type": "code",
        "outputId": "adef63ce-4c85-4bfa-a976-acb190eea512",
        "colab": {}
      },
      "source": [
        "#First five posts\n",
        "print(train_df.iloc[:5, :2])"
      ],
      "execution_count": 0,
      "outputs": [
        {
          "output_type": "stream",
          "text": [
            "   type                                              posts\n",
            "0  INFJ  'http://www.youtube.com/watch?v=qsXHcwe3krw|||...\n",
            "1  ENTP  'I'm finding the lack of me in these posts ver...\n",
            "2  INTP  'Good one  _____   https://www.youtube.com/wat...\n",
            "3  INTJ  'Dear INTP,   I enjoyed our conversation the o...\n",
            "4  ENTJ  'You're fired.|||That's another silly misconce...\n"
          ],
          "name": "stdout"
        }
      ]
    },
    {
      "cell_type": "code",
      "metadata": {
        "id": "sZ7UmS2DVzw5",
        "colab_type": "code",
        "outputId": "ab0239fa-d7d8-469c-bbe4-96534dc237b3",
        "colab": {}
      },
      "source": [
        "#View full text of the first post\n",
        "print(train_df.iloc[0,1])"
      ],
      "execution_count": 0,
      "outputs": [
        {
          "output_type": "stream",
          "text": [
            "'http://www.youtube.com/watch?v=qsXHcwe3krw|||http://41.media.tumblr.com/tumblr_lfouy03PMA1qa1rooo1_500.jpg|||enfp and intj moments  https://www.youtube.com/watch?v=iz7lE1g4XM4  sportscenter not top ten plays  https://www.youtube.com/watch?v=uCdfze1etec  pranks|||What has been the most life-changing experience in your life?|||http://www.youtube.com/watch?v=vXZeYwwRDw8   http://www.youtube.com/watch?v=u8ejam5DP3E  On repeat for most of today.|||May the PerC Experience immerse you.|||The last thing my INFJ friend posted on his facebook before committing suicide the next day. Rest in peace~   http://vimeo.com/22842206|||Hello ENFJ7. Sorry to hear of your distress. It's only natural for a relationship to not be perfection all the time in every moment of existence. Try to figure the hard times as times of growth, as...|||84389  84390  http://wallpaperpassion.com/upload/23700/friendship-boy-and-girl-wallpaper.jpg  http://assets.dornob.com/wp-content/uploads/2010/04/round-home-design.jpg ...|||Welcome and stuff.|||http://playeressence.com/wp-content/uploads/2013/08/RED-red-the-pokemon-master-32560474-450-338.jpg  Game. Set. Match.|||Prozac, wellbrutin, at least thirty minutes of moving your legs (and I don't mean moving them while sitting in your same desk chair), weed in moderation (maybe try edibles as a healthier alternative...|||Basically come up with three items you've determined that each type (or whichever types you want to do) would more than likely use, given each types' cognitive functions and whatnot, when left by...|||All things in moderation.  Sims is indeed a video game, and a good one at that. Note: a good one at that is somewhat subjective in that I am not completely promoting the death of any given Sim...|||Dear ENFP:  What were your favorite video games growing up and what are your now, current favorite video games? :cool:|||https://www.youtube.com/watch?v=QyPqT8umzmY|||It appears to be too late. :sad:|||There's someone out there for everyone.|||Wait... I thought confidence was a good thing.|||I just cherish the time of solitude b/c i revel within my inner world more whereas most other time i'd be workin... just enjoy the me time while you can. Don't worry, people will always be around to...|||Yo entp ladies... if you're into a complimentary personality,well, hey.|||... when your main social outlet is xbox live conversations and even then you verbally fatigue quickly.|||http://www.youtube.com/watch?v=gDhy7rdfm14  I really dig the part from 1:46 to 2:50|||http://www.youtube.com/watch?v=msqXffgh7b8|||Banned because this thread requires it of me.|||Get high in backyard, roast and eat marshmellows in backyard while conversing over something intellectual, followed by massages and kisses.|||http://www.youtube.com/watch?v=Mw7eoU3BMbE|||http://www.youtube.com/watch?v=4V2uYORhQOk|||http://www.youtube.com/watch?v=SlVmgFQQ0TI|||Banned for too many b's in that sentence. How could you! Think of the B!|||Banned for watching movies in the corner with the dunces.|||Banned because Health class clearly taught you nothing about peer pressure.|||Banned for a whole host of reasons!|||http://www.youtube.com/watch?v=IRcrv41hgz4|||1) Two baby deer on left and right munching on a beetle in the middle.  2) Using their own blood, two cavemen diary today's latest happenings on their designated cave diary wall.  3) I see it as...|||a pokemon world  an infj society  everyone becomes an optimist|||49142|||http://www.youtube.com/watch?v=ZRCEq_JFeFM|||http://discovermagazine.com/2012/jul-aug/20-things-you-didnt-know-about-deserts/desert.jpg|||http://oyster.ignimgs.com/mediawiki/apis.ign.com/pokemon-silver-version/d/dd/Ditto.gif|||http://www.serebii.net/potw-dp/Scizor.jpg|||Not all artists are artists because they draw. It's the idea that counts in forming something of your own... like a signature.|||Welcome to the robot ranks, person who downed my self-esteem cuz I'm not an avid signature artist like herself. :proud:|||Banned for taking all the room under my bed. Ya gotta learn to share with the roaches.|||http://www.youtube.com/watch?v=w8IgImn57aQ|||Banned for being too much of a thundering, grumbling kind of storm... yep.|||Ahh... old high school music I haven't heard in ages.   http://www.youtube.com/watch?v=dcCRUPCdB1w|||I failed a public speaking class a few years ago and I've sort of learned what I could do better were I to be in that position again. A big part of my failure was just overloading myself with too...|||I like this person's mentality. He's a confirmed INTJ by the way. http://www.youtube.com/watch?v=hGKLI-GEc6M|||Move to the Denver area and start a new life for myself.'\n"
          ],
          "name": "stdout"
        }
      ]
    },
    {
      "cell_type": "markdown",
      "metadata": {
        "id": "djXSzG4mVzxE",
        "colab_type": "text"
      },
      "source": [
        "From the above post, it looks like each post is separated by <b>\"|||\"</b> and the website links appears more frequently, also the personality type codes are referenced frequently. These codes should be added to stopwords to avoid biasing the model."
      ]
    },
    {
      "cell_type": "code",
      "metadata": {
        "id": "IshbgxHZVzxH",
        "colab_type": "code",
        "outputId": "63298105-198b-4c2e-d513-801d91e0209a",
        "colab": {}
      },
      "source": [
        "#Count each \"type\" appearance\n",
        "train_df['type'].value_counts()"
      ],
      "execution_count": 0,
      "outputs": [
        {
          "output_type": "execute_result",
          "data": {
            "text/plain": [
              "INFP    1386\n",
              "INFJ    1100\n",
              "INTP     960\n",
              "INTJ     830\n",
              "ENTP     530\n",
              "ENFP     496\n",
              "ISTP     255\n",
              "ISFP     198\n",
              "ENTJ     167\n",
              "ISTJ     145\n",
              "ENFJ     143\n",
              "ISFJ     124\n",
              "ESTP      71\n",
              "ESFP      36\n",
              "ESFJ      35\n",
              "ESTJ      30\n",
              "Name: type, dtype: int64"
            ]
          },
          "metadata": {
            "tags": []
          },
          "execution_count": 14
        }
      ]
    },
    {
      "cell_type": "code",
      "metadata": {
        "id": "OWuKhuR3VzxR",
        "colab_type": "code",
        "colab": {}
      },
      "source": [
        ""
      ],
      "execution_count": 0,
      "outputs": []
    },
    {
      "cell_type": "markdown",
      "metadata": {
        "id": "_98l5DJoVzxe",
        "colab_type": "text"
      },
      "source": [
        "The 'type' column contains 16 unique codes, representing the 16 different personality types"
      ]
    },
    {
      "cell_type": "code",
      "metadata": {
        "id": "Wd7VHVI3Vzxg",
        "colab_type": "code",
        "outputId": "df79cc58-e079-404b-fc62-fd494f94d852",
        "colab": {}
      },
      "source": [
        "#plot number of 'posts' per 'type'\n",
        "train_df.groupby('type').posts.count().plot.bar(ylim=0)\n",
        "plt.title(\"\\nDistribution of Myers-Briggs Types in the Training Dataset\\n\", fontsize=14)\n",
        "plt.show()"
      ],
      "execution_count": 0,
      "outputs": [
        {
          "output_type": "display_data",
          "data": {
            "image/png": "[encoded data removed]",
            "text/plain": [
              "<Figure size 432x288 with 1 Axes>"
            ]
          },
          "metadata": {
            "tags": [],
            "needs_background": "light"
          }
        }
      ]
    },
    {
      "cell_type": "markdown",
      "metadata": {
        "id": "1GDI-HpYVzxw",
        "colab_type": "text"
      },
      "source": [
        "Train dataset of the 6506 records, <b>INFP</b> is the most frequently-appearing Myers-Briggs type in this dataset with 1386 records, while <b>ESTJ</b> is the least frequent with 30 records"
      ]
    },
    {
      "cell_type": "code",
      "metadata": {
        "id": "1YEOULlZVzxy",
        "colab_type": "code",
        "outputId": "54cac7cc-7de1-4b5f-ba66-dac0801c7a36",
        "colab": {}
      },
      "source": [
        "num_posts = train_df['posts'].size\n",
        "num_posts"
      ],
      "execution_count": 0,
      "outputs": [
        {
          "output_type": "execute_result",
          "data": {
            "text/plain": [
              "6506"
            ]
          },
          "metadata": {
            "tags": []
          },
          "execution_count": 16
        }
      ]
    },
    {
      "cell_type": "code",
      "metadata": {
        "id": "HNnoG87pVzyK",
        "colab_type": "code",
        "outputId": "809ebb97-3e30-484d-d825-f7123fdfcc55",
        "colab": {}
      },
      "source": [
        "train_df['cleaned_posts'] = train_df['posts'].copy()\n",
        "train_df.head()"
      ],
      "execution_count": 0,
      "outputs": [
        {
          "output_type": "execute_result",
          "data": {
            "text/html": [
              "<div>\n",
              "<style scoped>\n",
              "    .dataframe tbody tr th:only-of-type {\n",
              "        vertical-align: middle;\n",
              "    }\n",
              "\n",
              "    .dataframe tbody tr th {\n",
              "        vertical-align: top;\n",
              "    }\n",
              "\n",
              "    .dataframe thead th {\n",
              "        text-align: right;\n",
              "    }\n",
              "</style>\n",
              "<table border=\"1\" class=\"dataframe\">\n",
              "  <thead>\n",
              "    <tr style=\"text-align: right;\">\n",
              "      <th></th>\n",
              "      <th>type</th>\n",
              "      <th>posts</th>\n",
              "      <th>cleaned_posts</th>\n",
              "    </tr>\n",
              "  </thead>\n",
              "  <tbody>\n",
              "    <tr>\n",
              "      <th>0</th>\n",
              "      <td>INFJ</td>\n",
              "      <td>'http://www.youtube.com/watch?v=qsXHcwe3krw|||...</td>\n",
              "      <td>'http://www.youtube.com/watch?v=qsXHcwe3krw|||...</td>\n",
              "    </tr>\n",
              "    <tr>\n",
              "      <th>1</th>\n",
              "      <td>ENTP</td>\n",
              "      <td>'I'm finding the lack of me in these posts ver...</td>\n",
              "      <td>'I'm finding the lack of me in these posts ver...</td>\n",
              "    </tr>\n",
              "    <tr>\n",
              "      <th>2</th>\n",
              "      <td>INTP</td>\n",
              "      <td>'Good one  _____   https://www.youtube.com/wat...</td>\n",
              "      <td>'Good one  _____   https://www.youtube.com/wat...</td>\n",
              "    </tr>\n",
              "    <tr>\n",
              "      <th>3</th>\n",
              "      <td>INTJ</td>\n",
              "      <td>'Dear INTP,   I enjoyed our conversation the o...</td>\n",
              "      <td>'Dear INTP,   I enjoyed our conversation the o...</td>\n",
              "    </tr>\n",
              "    <tr>\n",
              "      <th>4</th>\n",
              "      <td>ENTJ</td>\n",
              "      <td>'You're fired.|||That's another silly misconce...</td>\n",
              "      <td>'You're fired.|||That's another silly misconce...</td>\n",
              "    </tr>\n",
              "  </tbody>\n",
              "</table>\n",
              "</div>"
            ],
            "text/plain": [
              "   type                                              posts  \\\n",
              "0  INFJ  'http://www.youtube.com/watch?v=qsXHcwe3krw|||...   \n",
              "1  ENTP  'I'm finding the lack of me in these posts ver...   \n",
              "2  INTP  'Good one  _____   https://www.youtube.com/wat...   \n",
              "3  INTJ  'Dear INTP,   I enjoyed our conversation the o...   \n",
              "4  ENTJ  'You're fired.|||That's another silly misconce...   \n",
              "\n",
              "                                       cleaned_posts  \n",
              "0  'http://www.youtube.com/watch?v=qsXHcwe3krw|||...  \n",
              "1  'I'm finding the lack of me in these posts ver...  \n",
              "2  'Good one  _____   https://www.youtube.com/wat...  \n",
              "3  'Dear INTP,   I enjoyed our conversation the o...  \n",
              "4  'You're fired.|||That's another silly misconce...  "
            ]
          },
          "metadata": {
            "tags": []
          },
          "execution_count": 17
        }
      ]
    },
    {
      "cell_type": "code",
      "metadata": {
        "id": "_sb2AOC4Vzyg",
        "colab_type": "code",
        "colab": {}
      },
      "source": [
        "#Concatenate two columns[posts] from both train and test dataset\n",
        "all_posts_df = pd.concat([train_df['posts'],test_df['posts']], axis = 0, sort = False)"
      ],
      "execution_count": 0,
      "outputs": []
    },
    {
      "cell_type": "code",
      "metadata": {
        "id": "etXNO-qsVzym",
        "colab_type": "code",
        "outputId": "f7780353-51d4-45f9-e202-255daf5d95f9",
        "colab": {}
      },
      "source": [
        "all_posts_df.tail()"
      ],
      "execution_count": 0,
      "outputs": [
        {
          "output_type": "execute_result",
          "data": {
            "text/plain": [
              "2164    'https://www.youtube.com/watch?v=t8edHB_h908||...\n",
              "2165    'So...if this thread already exists someplace ...\n",
              "2166    'So many questions when i do these things.  I ...\n",
              "2167    'I am very conflicted right now when it comes ...\n",
              "2168    'It has been too long since I have been on per...\n",
              "Name: posts, dtype: object"
            ]
          },
          "metadata": {
            "tags": []
          },
          "execution_count": 19
        }
      ]
    },
    {
      "cell_type": "code",
      "metadata": {
        "id": "jOOJeQ7eVzyx",
        "colab_type": "code",
        "colab": {}
      },
      "source": [
        "all_df = pd.DataFrame({'posts':all_posts_df})"
      ],
      "execution_count": 0,
      "outputs": []
    },
    {
      "cell_type": "code",
      "metadata": {
        "id": "ZfeSxLuWVzy7",
        "colab_type": "code",
        "outputId": "8c93832c-3699-4a63-c492-23205fec062f",
        "colab": {}
      },
      "source": [
        "all_df.tail()"
      ],
      "execution_count": 0,
      "outputs": [
        {
          "output_type": "execute_result",
          "data": {
            "text/html": [
              "<div>\n",
              "<style scoped>\n",
              "    .dataframe tbody tr th:only-of-type {\n",
              "        vertical-align: middle;\n",
              "    }\n",
              "\n",
              "    .dataframe tbody tr th {\n",
              "        vertical-align: top;\n",
              "    }\n",
              "\n",
              "    .dataframe thead th {\n",
              "        text-align: right;\n",
              "    }\n",
              "</style>\n",
              "<table border=\"1\" class=\"dataframe\">\n",
              "  <thead>\n",
              "    <tr style=\"text-align: right;\">\n",
              "      <th></th>\n",
              "      <th>posts</th>\n",
              "    </tr>\n",
              "  </thead>\n",
              "  <tbody>\n",
              "    <tr>\n",
              "      <th>2164</th>\n",
              "      <td>'https://www.youtube.com/watch?v=t8edHB_h908||...</td>\n",
              "    </tr>\n",
              "    <tr>\n",
              "      <th>2165</th>\n",
              "      <td>'So...if this thread already exists someplace ...</td>\n",
              "    </tr>\n",
              "    <tr>\n",
              "      <th>2166</th>\n",
              "      <td>'So many questions when i do these things.  I ...</td>\n",
              "    </tr>\n",
              "    <tr>\n",
              "      <th>2167</th>\n",
              "      <td>'I am very conflicted right now when it comes ...</td>\n",
              "    </tr>\n",
              "    <tr>\n",
              "      <th>2168</th>\n",
              "      <td>'It has been too long since I have been on per...</td>\n",
              "    </tr>\n",
              "  </tbody>\n",
              "</table>\n",
              "</div>"
            ],
            "text/plain": [
              "                                                  posts\n",
              "2164  'https://www.youtube.com/watch?v=t8edHB_h908||...\n",
              "2165  'So...if this thread already exists someplace ...\n",
              "2166  'So many questions when i do these things.  I ...\n",
              "2167  'I am very conflicted right now when it comes ...\n",
              "2168  'It has been too long since I have been on per..."
            ]
          },
          "metadata": {
            "tags": []
          },
          "execution_count": 21
        }
      ]
    },
    {
      "cell_type": "code",
      "metadata": {
        "id": "PmdKjwxBVzzE",
        "colab_type": "code",
        "colab": {}
      },
      "source": [
        "all_df['cleaned_posts'] = all_df['posts'].copy()"
      ],
      "execution_count": 0,
      "outputs": []
    },
    {
      "cell_type": "code",
      "metadata": {
        "id": "SgBWCUhvVzzL",
        "colab_type": "code",
        "colab": {}
      },
      "source": [
        "all_df['type'] = train_df['type']"
      ],
      "execution_count": 0,
      "outputs": []
    },
    {
      "cell_type": "code",
      "metadata": {
        "id": "-j4u8pTsVzzS",
        "colab_type": "code",
        "outputId": "ad811f63-993a-4cc9-a9b0-6b9171773933",
        "colab": {}
      },
      "source": [
        "all_df.head()"
      ],
      "execution_count": 0,
      "outputs": [
        {
          "output_type": "execute_result",
          "data": {
            "text/html": [
              "<div>\n",
              "<style scoped>\n",
              "    .dataframe tbody tr th:only-of-type {\n",
              "        vertical-align: middle;\n",
              "    }\n",
              "\n",
              "    .dataframe tbody tr th {\n",
              "        vertical-align: top;\n",
              "    }\n",
              "\n",
              "    .dataframe thead th {\n",
              "        text-align: right;\n",
              "    }\n",
              "</style>\n",
              "<table border=\"1\" class=\"dataframe\">\n",
              "  <thead>\n",
              "    <tr style=\"text-align: right;\">\n",
              "      <th></th>\n",
              "      <th>posts</th>\n",
              "      <th>cleaned_posts</th>\n",
              "      <th>type</th>\n",
              "    </tr>\n",
              "  </thead>\n",
              "  <tbody>\n",
              "    <tr>\n",
              "      <th>0</th>\n",
              "      <td>'http://www.youtube.com/watch?v=qsXHcwe3krw|||...</td>\n",
              "      <td>'http://www.youtube.com/watch?v=qsXHcwe3krw|||...</td>\n",
              "      <td>INFJ</td>\n",
              "    </tr>\n",
              "    <tr>\n",
              "      <th>1</th>\n",
              "      <td>'I'm finding the lack of me in these posts ver...</td>\n",
              "      <td>'I'm finding the lack of me in these posts ver...</td>\n",
              "      <td>ENTP</td>\n",
              "    </tr>\n",
              "    <tr>\n",
              "      <th>2</th>\n",
              "      <td>'Good one  _____   https://www.youtube.com/wat...</td>\n",
              "      <td>'Good one  _____   https://www.youtube.com/wat...</td>\n",
              "      <td>INTP</td>\n",
              "    </tr>\n",
              "    <tr>\n",
              "      <th>3</th>\n",
              "      <td>'Dear INTP,   I enjoyed our conversation the o...</td>\n",
              "      <td>'Dear INTP,   I enjoyed our conversation the o...</td>\n",
              "      <td>INTJ</td>\n",
              "    </tr>\n",
              "    <tr>\n",
              "      <th>4</th>\n",
              "      <td>'You're fired.|||That's another silly misconce...</td>\n",
              "      <td>'You're fired.|||That's another silly misconce...</td>\n",
              "      <td>ENTJ</td>\n",
              "    </tr>\n",
              "  </tbody>\n",
              "</table>\n",
              "</div>"
            ],
            "text/plain": [
              "                                               posts  \\\n",
              "0  'http://www.youtube.com/watch?v=qsXHcwe3krw|||...   \n",
              "1  'I'm finding the lack of me in these posts ver...   \n",
              "2  'Good one  _____   https://www.youtube.com/wat...   \n",
              "3  'Dear INTP,   I enjoyed our conversation the o...   \n",
              "4  'You're fired.|||That's another silly misconce...   \n",
              "\n",
              "                                       cleaned_posts  type  \n",
              "0  'http://www.youtube.com/watch?v=qsXHcwe3krw|||...  INFJ  \n",
              "1  'I'm finding the lack of me in these posts ver...  ENTP  \n",
              "2  'Good one  _____   https://www.youtube.com/wat...  INTP  \n",
              "3  'Dear INTP,   I enjoyed our conversation the o...  INTJ  \n",
              "4  'You're fired.|||That's another silly misconce...  ENTJ  "
            ]
          },
          "metadata": {
            "tags": []
          },
          "execution_count": 24
        }
      ]
    },
    {
      "cell_type": "code",
      "metadata": {
        "id": "nMZFECDCVzzd",
        "colab_type": "code",
        "colab": {}
      },
      "source": [
        "import re\n",
        "import string\n",
        "import nltk\n",
        "from nltk.corpus import stopwords"
      ],
      "execution_count": 0,
      "outputs": []
    },
    {
      "cell_type": "code",
      "metadata": {
        "id": "Y43R6b4KVzzj",
        "colab_type": "code",
        "colab": {}
      },
      "source": [
        "import spacy\n",
        "from spacy.lang.en.stop_words import STOP_WORDS\n",
        "from spacy.lang.en import English"
      ],
      "execution_count": 0,
      "outputs": []
    },
    {
      "cell_type": "code",
      "metadata": {
        "id": "AHydhPANVzzq",
        "colab_type": "code",
        "colab": {}
      },
      "source": [
        "#Create list of punctuation marks\n",
        "punctuations = string.punctuation"
      ],
      "execution_count": 0,
      "outputs": []
    },
    {
      "cell_type": "code",
      "metadata": {
        "id": "uoTdbXeYVzzy",
        "colab_type": "code",
        "colab": {}
      },
      "source": [
        "#Create list of stopwords\n",
        "nlp = spacy.load('en')\n",
        "stop_words = spacy.lang.en.stop_words.STOP_WORDS"
      ],
      "execution_count": 0,
      "outputs": []
    },
    {
      "cell_type": "code",
      "metadata": {
        "id": "HzMgGoOMVzz8",
        "colab_type": "code",
        "colab": {}
      },
      "source": [
        "#Load English tokenizer, tagger, parser, NER and word vectors\n",
        "parser = English()"
      ],
      "execution_count": 0,
      "outputs": []
    },
    {
      "cell_type": "code",
      "metadata": {
        "id": "UIABo4Y0Vz0J",
        "colab_type": "code",
        "colab": {}
      },
      "source": [
        "#Data Cleaning and preprocessing\n",
        "#Replace ||| with empty space\n",
        "all_df['cleaned_posts'] = all_df['cleaned_posts'].apply(lambda x: x.replace('|||', ' '))"
      ],
      "execution_count": 0,
      "outputs": []
    },
    {
      "cell_type": "code",
      "metadata": {
        "id": "OMgDXgLXVz0P",
        "colab_type": "code",
        "colab": {}
      },
      "source": [
        "#Replace hyperlinks with 'url'\n",
        "all_df['cleaned_posts'] = all_df['cleaned_posts'].apply(lambda x: re.sub(r'\\bhttps?:\\/\\/.*?[\\r\\n]*? ', 'url ', x, flags=re.MULTILINE))"
      ],
      "execution_count": 0,
      "outputs": []
    },
    {
      "cell_type": "code",
      "metadata": {
        "id": "iD726HtnVz0U",
        "colab_type": "code",
        "colab": {}
      },
      "source": [
        "#remove all punctuation marks and digits\n",
        "all_df['cleaned_posts'] = all_df['cleaned_posts'].apply(lambda x: x.translate(str.maketrans('', '', string.punctuation)))\n",
        "all_df['cleaned_posts'] = all_df['cleaned_posts'].apply(lambda x: x.translate(str.maketrans('', '', string.digits)))"
      ],
      "execution_count": 0,
      "outputs": []
    },
    {
      "cell_type": "code",
      "metadata": {
        "id": "3NBonkf4Vz0a",
        "colab_type": "code",
        "colab": {}
      },
      "source": [
        "#Add personality type codes from 'posts' to stopwords list\n",
        "nlp.Defaults.stop_words |= {'infj', 'entp', 'intp', 'intj', 'entj', 'enfj', 'infp', 'enfp', 'isfp', \\\n",
        "                    'istp', 'isfj', 'istj', 'estp', 'esfp', 'estj', 'esfj'}\n",
        "stop_words = nlp.Defaults.stop_words"
      ],
      "execution_count": 0,
      "outputs": []
    },
    {
      "cell_type": "code",
      "metadata": {
        "id": "yYQ7QX2lVz0g",
        "colab_type": "code",
        "outputId": "c37b4b88-d99d-47d8-df99-15fa8503b451",
        "colab": {}
      },
      "source": [
        "#Check if the personality type code is the stopword\n",
        "nlp.vocab['infj'].is_stop"
      ],
      "execution_count": 0,
      "outputs": [
        {
          "output_type": "execute_result",
          "data": {
            "text/plain": [
              "True"
            ]
          },
          "metadata": {
            "tags": []
          },
          "execution_count": 34
        }
      ]
    },
    {
      "cell_type": "code",
      "metadata": {
        "id": "CNd47w3BVz0p",
        "colab_type": "code",
        "colab": {}
      },
      "source": [
        ""
      ],
      "execution_count": 0,
      "outputs": []
    },
    {
      "cell_type": "code",
      "metadata": {
        "id": "sQsU4tPhVz0x",
        "colab_type": "code",
        "colab": {}
      },
      "source": [
        "#Creating the tokenizer function\n",
        "def spacy_tokenizer(posts):\n",
        "    \n",
        "    #Creating token object, which is used to create documents with linguistic annotations.\n",
        "    my_tokens = parser(posts)\n",
        "\n",
        "    #Lemmatizing each token and converting each token into lowercase\n",
        "    my_tokens = [ word.lemma_.lower().strip() if word.lemma_ != \"-PRON-\" else word.lower_ for word in my_tokens ]\n",
        "\n",
        "    #Removing stop words\n",
        "    my_tokens = [ word for word in my_tokens if word not in stop_words and word not in punctuations ]\n",
        "\n",
        "    #Return preprocessed list of tokens\n",
        "    return my_tokens"
      ],
      "execution_count": 0,
      "outputs": []
    },
    {
      "cell_type": "code",
      "metadata": {
        "id": "ECCr0LTdVz04",
        "colab_type": "code",
        "colab": {}
      },
      "source": [
        "#View original text to confirm if the clean_posts function is working properly\n",
        "#train_df.cleaned_posts.iloc[0]"
      ],
      "execution_count": 0,
      "outputs": []
    },
    {
      "cell_type": "code",
      "metadata": {
        "id": "fSDCAIbJVz0-",
        "colab_type": "code",
        "colab": {}
      },
      "source": [
        "#View cleaned post\n",
        "#spacy_tokenizer(train_df.cleaned_posts.iloc[0])"
      ],
      "execution_count": 0,
      "outputs": []
    },
    {
      "cell_type": "code",
      "metadata": {
        "id": "0HsKBEmbVz1E",
        "colab_type": "code",
        "outputId": "549c8545-1509-4516-e6e6-139ad14790c0",
        "colab": {}
      },
      "source": [
        "all_df.head()"
      ],
      "execution_count": 0,
      "outputs": [
        {
          "output_type": "execute_result",
          "data": {
            "text/html": [
              "<div>\n",
              "<style scoped>\n",
              "    .dataframe tbody tr th:only-of-type {\n",
              "        vertical-align: middle;\n",
              "    }\n",
              "\n",
              "    .dataframe tbody tr th {\n",
              "        vertical-align: top;\n",
              "    }\n",
              "\n",
              "    .dataframe thead th {\n",
              "        text-align: right;\n",
              "    }\n",
              "</style>\n",
              "<table border=\"1\" class=\"dataframe\">\n",
              "  <thead>\n",
              "    <tr style=\"text-align: right;\">\n",
              "      <th></th>\n",
              "      <th>posts</th>\n",
              "      <th>cleaned_posts</th>\n",
              "      <th>type</th>\n",
              "    </tr>\n",
              "  </thead>\n",
              "  <tbody>\n",
              "    <tr>\n",
              "      <th>0</th>\n",
              "      <td>'http://www.youtube.com/watch?v=qsXHcwe3krw|||...</td>\n",
              "      <td>url url enfp and intj moments  url  sportscent...</td>\n",
              "      <td>INFJ</td>\n",
              "    </tr>\n",
              "    <tr>\n",
              "      <th>1</th>\n",
              "      <td>'I'm finding the lack of me in these posts ver...</td>\n",
              "      <td>Im finding the lack of me in these posts very ...</td>\n",
              "      <td>ENTP</td>\n",
              "    </tr>\n",
              "    <tr>\n",
              "      <th>2</th>\n",
              "      <td>'Good one  _____   https://www.youtube.com/wat...</td>\n",
              "      <td>Good one     url Of course to which I say I kn...</td>\n",
              "      <td>INTP</td>\n",
              "    </tr>\n",
              "    <tr>\n",
              "      <th>3</th>\n",
              "      <td>'Dear INTP,   I enjoyed our conversation the o...</td>\n",
              "      <td>Dear INTP   I enjoyed our conversation the oth...</td>\n",
              "      <td>INTJ</td>\n",
              "    </tr>\n",
              "    <tr>\n",
              "      <th>4</th>\n",
              "      <td>'You're fired.|||That's another silly misconce...</td>\n",
              "      <td>Youre fired Thats another silly misconception ...</td>\n",
              "      <td>ENTJ</td>\n",
              "    </tr>\n",
              "  </tbody>\n",
              "</table>\n",
              "</div>"
            ],
            "text/plain": [
              "                                               posts  \\\n",
              "0  'http://www.youtube.com/watch?v=qsXHcwe3krw|||...   \n",
              "1  'I'm finding the lack of me in these posts ver...   \n",
              "2  'Good one  _____   https://www.youtube.com/wat...   \n",
              "3  'Dear INTP,   I enjoyed our conversation the o...   \n",
              "4  'You're fired.|||That's another silly misconce...   \n",
              "\n",
              "                                       cleaned_posts  type  \n",
              "0  url url enfp and intj moments  url  sportscent...  INFJ  \n",
              "1  Im finding the lack of me in these posts very ...  ENTP  \n",
              "2  Good one     url Of course to which I say I kn...  INTP  \n",
              "3  Dear INTP   I enjoyed our conversation the oth...  INTJ  \n",
              "4  Youre fired Thats another silly misconception ...  ENTJ  "
            ]
          },
          "metadata": {
            "tags": []
          },
          "execution_count": 38
        }
      ]
    },
    {
      "cell_type": "code",
      "metadata": {
        "id": "p5bD3oZdVz1f",
        "colab_type": "code",
        "colab": {}
      },
      "source": [
        "#Create a binary column for each of the 4 axis types\n",
        "all_df['I-E'] = all_df['type'].map(lambda x: 0 if x[0] == 'I' else 1)\n",
        "all_df['N-S'] = all_df['type'].map(lambda x: 1 if x[1] == 'N' else 0)\n",
        "all_df['T-F'] = all_df['type'].map(lambda x: 1 if x[2] == 'T' else 0)\n",
        "all_df['J-P'] = all_df['type'].map(lambda x: 1 if x[3] == 'J' else 0)"
      ],
      "execution_count": 0,
      "outputs": []
    },
    {
      "cell_type": "code",
      "metadata": {
        "id": "dbSaiR-DVz2H",
        "colab_type": "code",
        "outputId": "97514736-2274-4943-be0b-b03d412ea260",
        "colab": {}
      },
      "source": [
        "all_df.head()"
      ],
      "execution_count": 0,
      "outputs": [
        {
          "output_type": "execute_result",
          "data": {
            "text/html": [
              "<div>\n",
              "<style scoped>\n",
              "    .dataframe tbody tr th:only-of-type {\n",
              "        vertical-align: middle;\n",
              "    }\n",
              "\n",
              "    .dataframe tbody tr th {\n",
              "        vertical-align: top;\n",
              "    }\n",
              "\n",
              "    .dataframe thead th {\n",
              "        text-align: right;\n",
              "    }\n",
              "</style>\n",
              "<table border=\"1\" class=\"dataframe\">\n",
              "  <thead>\n",
              "    <tr style=\"text-align: right;\">\n",
              "      <th></th>\n",
              "      <th>posts</th>\n",
              "      <th>cleaned_posts</th>\n",
              "      <th>type</th>\n",
              "      <th>I-E</th>\n",
              "      <th>N-S</th>\n",
              "      <th>T-F</th>\n",
              "      <th>J-P</th>\n",
              "    </tr>\n",
              "  </thead>\n",
              "  <tbody>\n",
              "    <tr>\n",
              "      <th>0</th>\n",
              "      <td>'http://www.youtube.com/watch?v=qsXHcwe3krw|||...</td>\n",
              "      <td>url url enfp and intj moments  url  sportscent...</td>\n",
              "      <td>INFJ</td>\n",
              "      <td>0</td>\n",
              "      <td>1</td>\n",
              "      <td>0</td>\n",
              "      <td>1</td>\n",
              "    </tr>\n",
              "    <tr>\n",
              "      <th>1</th>\n",
              "      <td>'I'm finding the lack of me in these posts ver...</td>\n",
              "      <td>Im finding the lack of me in these posts very ...</td>\n",
              "      <td>ENTP</td>\n",
              "      <td>1</td>\n",
              "      <td>1</td>\n",
              "      <td>1</td>\n",
              "      <td>0</td>\n",
              "    </tr>\n",
              "    <tr>\n",
              "      <th>2</th>\n",
              "      <td>'Good one  _____   https://www.youtube.com/wat...</td>\n",
              "      <td>Good one     url Of course to which I say I kn...</td>\n",
              "      <td>INTP</td>\n",
              "      <td>0</td>\n",
              "      <td>1</td>\n",
              "      <td>1</td>\n",
              "      <td>0</td>\n",
              "    </tr>\n",
              "    <tr>\n",
              "      <th>3</th>\n",
              "      <td>'Dear INTP,   I enjoyed our conversation the o...</td>\n",
              "      <td>Dear INTP   I enjoyed our conversation the oth...</td>\n",
              "      <td>INTJ</td>\n",
              "      <td>0</td>\n",
              "      <td>1</td>\n",
              "      <td>1</td>\n",
              "      <td>1</td>\n",
              "    </tr>\n",
              "    <tr>\n",
              "      <th>4</th>\n",
              "      <td>'You're fired.|||That's another silly misconce...</td>\n",
              "      <td>Youre fired Thats another silly misconception ...</td>\n",
              "      <td>ENTJ</td>\n",
              "      <td>1</td>\n",
              "      <td>1</td>\n",
              "      <td>1</td>\n",
              "      <td>1</td>\n",
              "    </tr>\n",
              "  </tbody>\n",
              "</table>\n",
              "</div>"
            ],
            "text/plain": [
              "                                               posts  \\\n",
              "0  'http://www.youtube.com/watch?v=qsXHcwe3krw|||...   \n",
              "1  'I'm finding the lack of me in these posts ver...   \n",
              "2  'Good one  _____   https://www.youtube.com/wat...   \n",
              "3  'Dear INTP,   I enjoyed our conversation the o...   \n",
              "4  'You're fired.|||That's another silly misconce...   \n",
              "\n",
              "                                       cleaned_posts  type  I-E  N-S  T-F  J-P  \n",
              "0  url url enfp and intj moments  url  sportscent...  INFJ    0    1    0    1  \n",
              "1  Im finding the lack of me in these posts very ...  ENTP    1    1    1    0  \n",
              "2  Good one     url Of course to which I say I kn...  INTP    0    1    1    0  \n",
              "3  Dear INTP   I enjoyed our conversation the oth...  INTJ    0    1    1    1  \n",
              "4  Youre fired Thats another silly misconception ...  ENTJ    1    1    1    1  "
            ]
          },
          "metadata": {
            "tags": []
          },
          "execution_count": 40
        }
      ]
    },
    {
      "cell_type": "code",
      "metadata": {
        "id": "P4VMDqZrVz2T",
        "colab_type": "code",
        "colab": {}
      },
      "source": [
        "#Will add count plot for each code later - Kwazi"
      ],
      "execution_count": 0,
      "outputs": []
    },
    {
      "cell_type": "code",
      "metadata": {
        "id": "oEyNM-vIVz2s",
        "colab_type": "code",
        "outputId": "bd03aa1a-0c32-48a7-fc6b-cb9d1c1326c1",
        "colab": {}
      },
      "source": [
        "#Calculate baseline for each of the four axes\n",
        "baseline_IE = all_df['I-E'].value_counts().max() / all_df['I-E'].value_counts().sum()\n",
        "baseline_NS = all_df['N-S'].value_counts().max() / all_df['N-S'].value_counts().sum()\n",
        "baseline_TF = all_df['T-F'].value_counts().max() / all_df['T-F'].value_counts().sum()\n",
        "baseline_JP = all_df['J-P'].value_counts().max() / all_df['J-P'].value_counts().sum()\n",
        "\n",
        "print('Introversion - Extroversion: ', baseline_IE)\n",
        "print('Intuition - Sensing: ', baseline_NS)\n",
        "print('Thinking - Feeling: ', baseline_TF)\n",
        "print('Judging - Perceiving: ', baseline_JP)"
      ],
      "execution_count": 0,
      "outputs": [
        {
          "output_type": "stream",
          "text": [
            "Introversion - Extroversion:  0.7697982708933717\n",
            "Intuition - Sensing:  0.8623631123919309\n",
            "Thinking - Feeling:  0.5397118155619597\n",
            "Judging - Perceiving:  0.6059942363112392\n"
          ],
          "name": "stdout"
        }
      ]
    },
    {
      "cell_type": "code",
      "metadata": {
        "id": "XF2OI0bCVz24",
        "colab_type": "code",
        "colab": {}
      },
      "source": [
        "from sklearn.feature_extraction.text import CountVectorizer,TfidfVectorizer\n",
        "from sklearn.base import TransformerMixin\n",
        "from sklearn.pipeline import Pipeline\n",
        "from sklearn.decomposition import TruncatedSVD\n",
        "from imblearn.over_sampling import SMOTE"
      ],
      "execution_count": 0,
      "outputs": []
    },
    {
      "cell_type": "code",
      "metadata": {
        "id": "gSj6vePGVz3A",
        "colab_type": "code",
        "colab": {}
      },
      "source": [
        ""
      ],
      "execution_count": 0,
      "outputs": []
    },
    {
      "cell_type": "code",
      "metadata": {
        "id": "PN1owr7VVz3F",
        "colab_type": "code",
        "colab": {}
      },
      "source": [
        "#Count Vectorizer\n",
        "#bow_vector = CountVectorizer(tokenizer = spacy_tokenizer, ngram_range=(1,2))"
      ],
      "execution_count": 0,
      "outputs": []
    },
    {
      "cell_type": "code",
      "metadata": {
        "id": "veECkdlNVz3K",
        "colab_type": "code",
        "colab": {}
      },
      "source": [
        "#TF-IDF (Term Frequency-Inverse Document Frequency) for our terms.\n",
        "#tfidf_vector = TfidfVectorizer(tokenizer = spacy_tokenizer)"
      ],
      "execution_count": 0,
      "outputs": []
    },
    {
      "cell_type": "code",
      "metadata": {
        "id": "cleR2EjKVz3W",
        "colab_type": "code",
        "colab": {}
      },
      "source": [
        ""
      ],
      "execution_count": 0,
      "outputs": []
    },
    {
      "cell_type": "code",
      "metadata": {
        "id": "C7_bNK2hVz3b",
        "colab_type": "code",
        "outputId": "41635444-4b24-415f-9cad-3d4db5875186",
        "colab": {}
      },
      "source": [
        "cv = CountVectorizer(tokenizer=spacy_tokenizer,preprocessor=None,stop_words=None, ngram_range=(1,2), max_features=1000)\n",
        "cv.fit(all_df['cleaned_posts'])\n",
        "cv.transform(all_df['cleaned_posts'])\n",
        "\n",
        "cv.transform(all_df['cleaned_posts']).todense()\n",
        "all_df_posts = pd.DataFrame(cv.transform(all_df['cleaned_posts']).todense(), \n",
        "             columns=cv.get_feature_names())\n",
        "all_df_posts.head()"
      ],
      "execution_count": 0,
      "outputs": [
        {
          "output_type": "execute_result",
          "data": {
            "text/html": [
              "<div>\n",
              "<style scoped>\n",
              "    .dataframe tbody tr th:only-of-type {\n",
              "        vertical-align: middle;\n",
              "    }\n",
              "\n",
              "    .dataframe tbody tr th {\n",
              "        vertical-align: top;\n",
              "    }\n",
              "\n",
              "    .dataframe thead th {\n",
              "        text-align: right;\n",
              "    }\n",
              "</style>\n",
              "<table border=\"1\" class=\"dataframe\">\n",
              "  <thead>\n",
              "    <tr style=\"text-align: right;\">\n",
              "      <th></th>\n",
              "      <th>2</th>\n",
              "      <th>ability</th>\n",
              "      <th>able</th>\n",
              "      <th>absolutely</th>\n",
              "      <th>accept</th>\n",
              "      <th>accord</th>\n",
              "      <th>account</th>\n",
              "      <th>accurate</th>\n",
              "      <th>act</th>\n",
              "      <th>act like</th>\n",
              "      <th>...</th>\n",
              "      <th>year ago</th>\n",
              "      <th>year old</th>\n",
              "      <th>yep</th>\n",
              "      <th>yes</th>\n",
              "      <th>yes think</th>\n",
              "      <th>yesterday</th>\n",
              "      <th>young</th>\n",
              "      <th>youtube</th>\n",
              "      <th>﻿1</th>\n",
              "      <th>﻿1 time</th>\n",
              "    </tr>\n",
              "  </thead>\n",
              "  <tbody>\n",
              "    <tr>\n",
              "      <th>0</th>\n",
              "      <td>0</td>\n",
              "      <td>0</td>\n",
              "      <td>0</td>\n",
              "      <td>0</td>\n",
              "      <td>0</td>\n",
              "      <td>0</td>\n",
              "      <td>0</td>\n",
              "      <td>0</td>\n",
              "      <td>0</td>\n",
              "      <td>0</td>\n",
              "      <td>...</td>\n",
              "      <td>1</td>\n",
              "      <td>0</td>\n",
              "      <td>1</td>\n",
              "      <td>0</td>\n",
              "      <td>0</td>\n",
              "      <td>0</td>\n",
              "      <td>0</td>\n",
              "      <td>0</td>\n",
              "      <td>0</td>\n",
              "      <td>0</td>\n",
              "    </tr>\n",
              "    <tr>\n",
              "      <th>1</th>\n",
              "      <td>0</td>\n",
              "      <td>0</td>\n",
              "      <td>1</td>\n",
              "      <td>0</td>\n",
              "      <td>0</td>\n",
              "      <td>0</td>\n",
              "      <td>0</td>\n",
              "      <td>0</td>\n",
              "      <td>0</td>\n",
              "      <td>0</td>\n",
              "      <td>...</td>\n",
              "      <td>0</td>\n",
              "      <td>0</td>\n",
              "      <td>0</td>\n",
              "      <td>0</td>\n",
              "      <td>0</td>\n",
              "      <td>0</td>\n",
              "      <td>0</td>\n",
              "      <td>0</td>\n",
              "      <td>3</td>\n",
              "      <td>0</td>\n",
              "    </tr>\n",
              "    <tr>\n",
              "      <th>2</th>\n",
              "      <td>0</td>\n",
              "      <td>2</td>\n",
              "      <td>1</td>\n",
              "      <td>2</td>\n",
              "      <td>0</td>\n",
              "      <td>0</td>\n",
              "      <td>0</td>\n",
              "      <td>1</td>\n",
              "      <td>0</td>\n",
              "      <td>0</td>\n",
              "      <td>...</td>\n",
              "      <td>0</td>\n",
              "      <td>0</td>\n",
              "      <td>0</td>\n",
              "      <td>1</td>\n",
              "      <td>0</td>\n",
              "      <td>0</td>\n",
              "      <td>0</td>\n",
              "      <td>0</td>\n",
              "      <td>1</td>\n",
              "      <td>0</td>\n",
              "    </tr>\n",
              "    <tr>\n",
              "      <th>3</th>\n",
              "      <td>1</td>\n",
              "      <td>0</td>\n",
              "      <td>2</td>\n",
              "      <td>0</td>\n",
              "      <td>1</td>\n",
              "      <td>0</td>\n",
              "      <td>0</td>\n",
              "      <td>0</td>\n",
              "      <td>0</td>\n",
              "      <td>0</td>\n",
              "      <td>...</td>\n",
              "      <td>0</td>\n",
              "      <td>0</td>\n",
              "      <td>0</td>\n",
              "      <td>1</td>\n",
              "      <td>0</td>\n",
              "      <td>0</td>\n",
              "      <td>0</td>\n",
              "      <td>0</td>\n",
              "      <td>0</td>\n",
              "      <td>0</td>\n",
              "    </tr>\n",
              "    <tr>\n",
              "      <th>4</th>\n",
              "      <td>0</td>\n",
              "      <td>0</td>\n",
              "      <td>0</td>\n",
              "      <td>0</td>\n",
              "      <td>0</td>\n",
              "      <td>0</td>\n",
              "      <td>0</td>\n",
              "      <td>0</td>\n",
              "      <td>0</td>\n",
              "      <td>0</td>\n",
              "      <td>...</td>\n",
              "      <td>0</td>\n",
              "      <td>1</td>\n",
              "      <td>0</td>\n",
              "      <td>2</td>\n",
              "      <td>0</td>\n",
              "      <td>0</td>\n",
              "      <td>0</td>\n",
              "      <td>0</td>\n",
              "      <td>0</td>\n",
              "      <td>0</td>\n",
              "    </tr>\n",
              "  </tbody>\n",
              "</table>\n",
              "<p>5 rows × 1000 columns</p>\n",
              "</div>"
            ],
            "text/plain": [
              "   2  ability  able  absolutely  accept  accord  account  accurate  act  \\\n",
              "0  0        0     0           0       0       0        0         0    0   \n",
              "1  0        0     1           0       0       0        0         0    0   \n",
              "2  0        2     1           2       0       0        0         1    0   \n",
              "3  1        0     2           0       1       0        0         0    0   \n",
              "4  0        0     0           0       0       0        0         0    0   \n",
              "\n",
              "   act like   ...     year ago  year old  yep  yes  yes think  yesterday  \\\n",
              "0         0   ...            1         0    1    0          0          0   \n",
              "1         0   ...            0         0    0    0          0          0   \n",
              "2         0   ...            0         0    0    1          0          0   \n",
              "3         0   ...            0         0    0    1          0          0   \n",
              "4         0   ...            0         1    0    2          0          0   \n",
              "\n",
              "   young  youtube  ﻿1  ﻿1 time  \n",
              "0      0        0   0        0  \n",
              "1      0        0   3        0  \n",
              "2      0        0   1        0  \n",
              "3      0        0   0        0  \n",
              "4      0        0   0        0  \n",
              "\n",
              "[5 rows x 1000 columns]"
            ]
          },
          "metadata": {
            "tags": []
          },
          "execution_count": 47
        }
      ]
    },
    {
      "cell_type": "code",
      "metadata": {
        "id": "pPdJjx_eVz3k",
        "colab_type": "code",
        "colab": {}
      },
      "source": [
        ""
      ],
      "execution_count": 0,
      "outputs": []
    },
    {
      "cell_type": "code",
      "metadata": {
        "id": "ZK2qEPz2Vz3r",
        "colab_type": "code",
        "outputId": "8c50442c-642d-4fbc-d773-eeffca2e600f",
        "colab": {}
      },
      "source": [
        "all_df_posts.shape"
      ],
      "execution_count": 0,
      "outputs": [
        {
          "output_type": "execute_result",
          "data": {
            "text/plain": [
              "(8675, 1000)"
            ]
          },
          "metadata": {
            "tags": []
          },
          "execution_count": 48
        }
      ]
    },
    {
      "cell_type": "code",
      "metadata": {
        "id": "MG6fwhdDVz3z",
        "colab_type": "code",
        "outputId": "2863fdfc-3f8b-4288-927e-eb40cd86d6cd",
        "colab": {}
      },
      "source": [
        "#Examine the top 10 occuring words in this round of CountVectorizer\n",
        "print(all_df_posts.sum().sort_values(ascending=False).head(10))"
      ],
      "execution_count": 0,
      "outputs": [
        {
          "output_type": "stream",
          "text": [
            "like      72588\n",
            "think     68705\n",
            "people    47815\n",
            "know      43351\n",
            "good      43194\n",
            "s         39385\n",
            "feel      35810\n",
            "thing     34308\n",
            "time      33187\n",
            "url       28061\n",
            "dtype: int64\n"
          ],
          "name": "stdout"
        }
      ]
    },
    {
      "cell_type": "code",
      "metadata": {
        "id": "bL93gtseVz4B",
        "colab_type": "code",
        "colab": {}
      },
      "source": [
        ""
      ],
      "execution_count": 0,
      "outputs": []
    },
    {
      "cell_type": "code",
      "metadata": {
        "id": "ImN06Po0Vz4G",
        "colab_type": "code",
        "outputId": "31ccf79f-f60d-4e1a-ac1b-ef902a18ebfe",
        "colab": {}
      },
      "source": [
        "#View the tokens created\n",
        "with pd.option_context('display.max_rows', 1, 'display.max_columns', None):\n",
        "    print(all_df_posts)"
      ],
      "execution_count": 0,
      "outputs": [
        {
          "output_type": "stream",
          "text": [
            "    2  ability  able  absolutely  accept  accord  account  accurate  act  \\\n",
            "0   0        0     0           0       0       0        0         0    0   \n",
            ".. ..      ...   ...         ...     ...     ...      ...       ...  ...   \n",
            "\n",
            "    act like  action  activity  actual  actually  add  admit  advice  affect  \\\n",
            "0          0       0         0       0         0    0      0       0       0   \n",
            "..       ...     ...       ...     ...       ...  ...    ...     ...     ...   \n",
            "\n",
            "    afraid  age  ago  agree  ah  allow  alot  alright  amaze  analyze  anger  \\\n",
            "0        0    1    1      0   0      0     0        0      0        0      0   \n",
            "..     ...  ...  ...    ...  ..    ...   ...      ...    ...      ...    ...   \n",
            "\n",
            "    angry  animal  anime  annoy  answer  answer question  anxiety  anymore  \\\n",
            "0       0       0      0      0       0                0        0        0   \n",
            "..    ...     ...    ...    ...     ...              ...      ...      ...   \n",
            "\n",
            "    anyways  apparently  appear  apply  appreciate  approach  area  argue  \\\n",
            "0         0           0       1      0           0         0     1      0   \n",
            "..      ...         ...     ...    ...         ...       ...   ...    ...   \n",
            "\n",
            "    argument  art  article  artist  ask  ask question  aspect  ass  assume  \\\n",
            "0          0    0        0       3    0             0       0    0       0   \n",
            "..       ...  ...      ...     ...  ...           ...     ...  ...     ...   \n",
            "\n",
            "    attack  attempt  attention  attract  attractive  avatar  average  avoid  \\\n",
            "0        0        0          0        0           0       0        0      0   \n",
            "..     ...      ...        ...      ...         ...     ...      ...    ...   \n",
            "\n",
            "    aware  away  awesome  awkward  b  baby  bad  balance  band  base  basic  \\\n",
            "0       0     0        0        0  2     1    0        0     0     0      0   \n",
            "..    ...   ...      ...      ... ..   ...  ...      ...   ...   ...    ...   \n",
            "\n",
            "    basically  bear  beat  beautiful  bed  begin  behavior  belief  believe  \\\n",
            "0           1     0     0          0    1      0         0       0        0   \n",
            "..        ...   ...   ...        ...  ...    ...       ...     ...      ...   \n",
            "\n",
            "    big  birthday  bite  black  blue  blush  body  book  bore  bother  box  \\\n",
            "0     1         0     0      0     0      0     0     0     0       0    0   \n",
            "..  ...       ...   ...    ...   ...    ...   ...   ...   ...     ...  ...   \n",
            "\n",
            "    boy  boyfriend  brain  break  bring  brother  btw  build  bunch  burn  \\\n",
            "0     0          0      0      0      0        0    0      0      0     0   \n",
            "..  ...        ...    ...    ...    ...      ...  ...    ...    ...   ...   \n",
            "\n",
            "    business  busy  buy  c  calm  car  care  career  case  cat  catch  cause  \\\n",
            "0          0     0    0  0     0    0     0       0     0    0      0      0   \n",
            "..       ...   ...  ... ..   ...  ...   ...     ...   ...  ...    ...    ...   \n",
            "\n",
            "    certain  certainly  challenge  chance  change  character  chat  check  \\\n",
            "0         0          0          0       0       0          0     0      0   \n",
            "..      ...        ...        ...     ...     ...        ...   ...    ...   \n",
            "\n",
            "    child  childhood  choice  choose  city  claim  class  clean  clear  \\\n",
            "0       0          0       0       0     0      0      2      0      0   \n",
            "..    ...        ...     ...     ...   ...    ...    ...    ...    ...   \n",
            "\n",
            "    clearly  click  close  close friend  clothe  club  coffee  cognitive  \\\n",
            "0         1      0      0             0       0     0       0          1   \n",
            "..      ...    ...    ...           ...     ...   ...     ...        ...   \n",
            "\n",
            "    cognitive function  cold  college  color  come  comfort  comfortable  \\\n",
            "0                    1     0        0      0     1        0            0   \n",
            "..                 ...   ...      ...    ...   ...      ...          ...   \n",
            "\n",
            "    comment  common  communicate  communication  company  compare  complete  \\\n",
            "0         0       0            0              0        0        0         0   \n",
            "..      ...     ...          ...            ...      ...      ...       ...   \n",
            "\n",
            "    completely  complex  compliment  computer  concept  concern  conclusion  \\\n",
            "0            1        0           0         0        0        0           0   \n",
            "..         ...      ...         ...       ...      ...      ...         ...   \n",
            "\n",
            "    confidence  confident  conflict  confuse  connect  connection  consider  \\\n",
            "0            1          0         0        0        0           0         0   \n",
            "..         ...        ...       ...      ...      ...         ...       ...   \n",
            "\n",
            "    constantly  contact  continue  control  conversation  convince  cook  \\\n",
            "0            0        0         0        0             1         0     0   \n",
            "..         ...      ...       ...      ...           ...       ...   ...   \n",
            "\n",
            "    cool  correct  count  country  couple  course  cover  crap  crazy  create  \\\n",
            "0      1        0      1        0       0       0      0     0      0       0   \n",
            "..   ...      ...    ...      ...     ...     ...    ...   ...    ...     ...   \n",
            "\n",
            "    creative  crush  cry  culture  curious  current  currently  cut  cute  \\\n",
            "0          0      0    0        0        0        1          0    0     0   \n",
            "..       ...    ...  ...      ...      ...      ...        ...  ...   ...   \n",
            "\n",
            "    dad  damn  dance  dark  date  day  dead  deal  dear  death  debate  \\\n",
            "0     0     0      0     0     0    1     0     0     1      1       0   \n",
            "..  ...   ...    ...   ...   ...  ...   ...   ...   ...    ...     ...   \n",
            "\n",
            "    decide  decision  deep  define  definitely  definition  degree  depend  \\\n",
            "0        0         0     0       0           0           0       0       0   \n",
            "..     ...       ...   ...     ...         ...         ...     ...     ...   \n",
            "\n",
            "    depress  depression  describe  description  desire  despite  detail  \\\n",
            "0         0           0         0            0       0        0       0   \n",
            "..      ...         ...       ...          ...     ...      ...     ...   \n",
            "\n",
            "    determine  develop  develope  die  difference  different  difficult  \\\n",
            "0           1        0         0    0           0          0          0   \n",
            "..        ...      ...       ...  ...         ...        ...        ...   \n",
            "\n",
            "    direct  disagree  discover  discuss  discussion  dislike  disorder  \\\n",
            "0        0         0         0        0           0        0         0   \n",
            "..     ...       ...       ...      ...         ...      ...       ...   \n",
            "\n",
            "    doctor  doe  dog  dominant  door  double  doubt  draw  dream  dress  \\\n",
            "0        0    0    0         0     0       0      0     1      0      0   \n",
            "..     ...  ...  ...       ...   ...     ...    ...   ...    ...    ...   \n",
            "\n",
            "    drink  drive  drop  drug  dude  e  early  earth  easily  easy  eat  edit  \\\n",
            "0       0      0     0     0     0  0      0      0       0     0    1     0   \n",
            "..    ...    ...   ...   ...   ... ..    ...    ...     ...   ...  ...   ...   \n",
            "\n",
            "    effect  effort  emotion  emotional  emotionally  end  energy  enfjs  \\\n",
            "0        0       0        0          0            0    0       0      0   \n",
            "..     ...     ...      ...        ...          ...  ...     ...    ...   \n",
            "\n",
            "    enfps  engage  english  enjoy  enneagram  entire  entirely  entjs  entps  \\\n",
            "0       0       0        0      1          0       0         0      0      0   \n",
            "..    ...     ...      ...    ...        ...     ...       ...    ...    ...   \n",
            "\n",
            "    environment  esfjs  especially  etc  event  eventually  everybody  evil  \\\n",
            "0             0      0           0    0      0           0          0     0   \n",
            "..          ...    ...         ...  ...    ...         ...        ...   ...   \n",
            "\n",
            "    ex  exact  exactly  example  excite  exist  expect  experience  explain  \\\n",
            "0    0      0        0        0       0      0       0           2        0   \n",
            "..  ..    ...      ...      ...     ...    ...     ...         ...      ...   \n",
            "\n",
            "    express  expression  extreme  extremely  extrovert  extroverted  eye  f  \\\n",
            "0         0           0        0          0          0            0    0  0   \n",
            "..      ...         ...      ...        ...        ...          ...  ... ..   \n",
            "\n",
            "    face  facebook  fact  fail  fair  fairly  fake  fall  family  fan  \\\n",
            "0      0         1     0     1     0       0     0     0       0    0   \n",
            "..   ...       ...   ...   ...   ...     ...   ...   ...     ...  ...   \n",
            "\n",
            "    fantasy  far  fascinate  fast  father  favorite  favourite  fe  fear  \\\n",
            "0         0    0          0     0       0         2          0   0     0   \n",
            "..      ...  ...        ...   ...     ...       ...        ...  ..   ...   \n",
            "\n",
            "    feel  feel like  feel way  feeler  feeling  fellow  female  fi  field  \\\n",
            "0      0          0         0       0        0       0       0   0      0   \n",
            "..   ...        ...       ...     ...      ...     ...     ...  ..    ...   \n",
            "\n",
            "    fight  figure  fill  film  finally  find  fine  finish  fire  fit  fix  \\\n",
            "0       0       1     0     0        0     0     0       0     0    0    0   \n",
            "..    ...     ...   ...   ...      ...   ...   ...     ...   ...  ...  ...   \n",
            "\n",
            "    flirt  fly  focus  follow  food  force  forever  forget  form  forum  \\\n",
            "0       0    0      0       1     0      0        0       0     1      0   \n",
            "..    ...  ...    ...     ...   ...    ...      ...     ...   ...    ...   \n",
            "\n",
            "    forward  freak  free  friend  friendly  friendship  frustrate  fuck  \\\n",
            "0         0      0     0       1         0           0          0     0   \n",
            "..      ...    ...   ...     ...       ...         ...        ...   ...   \n",
            "\n",
            "    fully  fun  function  funny  future  gain  game  gender  general  \\\n",
            "0       0    0         1      0       0     0     4       0        0   \n",
            "..    ...  ...       ...    ...     ...   ...   ...     ...      ...   \n",
            "\n",
            "    generally  gift  girl  girlfriend  glad  goal  god  good  good friend  \\\n",
            "0           0     0     0           0     0     0    0     3            0   \n",
            "..        ...   ...   ...         ...   ...   ...  ...   ...          ...   \n",
            "\n",
            "    good know  good thing  good think  grade  great  green  group  grow  \\\n",
            "0           0           1           0      0      0      0      0     1   \n",
            "..        ...         ...         ...    ...    ...    ...    ...   ...   \n",
            "\n",
            "    guess  guy  ha  habit  haha  hahaha  hair  half  hand  handle  hang  \\\n",
            "0       0    0   0      0     0       0     0     0     0       0     0   \n",
            "..    ...  ...  ..    ...   ...     ...   ...   ...   ...     ...   ...   \n",
            "\n",
            "    happen  happiness  happy  hard  hard time  hate  head  healthy  hear  \\\n",
            "0        0          0      0     1          1     0     0        1     2   \n",
            "..     ...        ...    ...   ...        ...   ...   ...      ...   ...   \n",
            "\n",
            "    heart  hell  hello  help  helpful  heres  hey  hide  high  high school  \\\n",
            "0       0     0      1     0        0      0    1     0     2            1   \n",
            "..    ...   ...    ...   ...      ...    ...  ...   ...   ...          ...   \n",
            "\n",
            "    highly  history  hit  hmm  hold  home  honest  honestly  hope  horrible  \\\n",
            "0        0        0    0    0     0     0       0         0     0         0   \n",
            "..     ...      ...  ...  ...   ...   ...     ...       ...   ...       ...   \n",
            "\n",
            "    hot  hour  house  hug  huge  human  humor  hurt  husband  idea  ideal  \\\n",
            "0     0     0      0    0     0      0      0     0        0     1      0   \n",
            "..  ...   ...    ...  ...   ...    ...    ...   ...      ...   ...    ...   \n",
            "\n",
            "    identify  ie  ignore  ill  image  imagine  important  impossible  \\\n",
            "0          0   0       0    0      0        0          0           0   \n",
            "..       ...  ..     ...  ...    ...      ...        ...         ...   \n",
            "\n",
            "    impression  include  incredibly  individual  inferior  infjs  influence  \\\n",
            "0            0        0           0           0         0      0          0   \n",
            "..         ...      ...         ...         ...       ...    ...        ...   \n",
            "\n",
            "    information  infps  inner  inside  insight  instead  intelligence  \\\n",
            "0             0      0      1       0        0        0             0   \n",
            "..          ...    ...    ...     ...      ...      ...           ...   \n",
            "\n",
            "    intelligent  intense  interact  interaction  interest  internet  \\\n",
            "0             0        0         0            0         0         0   \n",
            "..          ...      ...       ...          ...       ...       ...   \n",
            "\n",
            "    interview  intjs  intps  introvert  intuition  intuitive  involve  iphone  \\\n",
            "0           0      0      0          0          0          0        0       0   \n",
            "..        ...    ...    ...        ...        ...        ...      ...     ...   \n",
            "\n",
            "    isfjs  isfps  issue  istjs  istps  j  job  join  joke  judge  jump  key  \\\n",
            "0       0      0      0      0      0  0    0     0     0      0     0    0   \n",
            "..    ...    ...    ...    ...    ... ..  ...   ...   ...    ...   ...  ...   \n",
            "\n",
            "    kid  kill  kind  kinda  kitteh  know  know feel  know good  know like  \\\n",
            "0     0     0     1      0       0     0          0          0          0   \n",
            "..  ...   ...   ...    ...     ...   ...        ...        ...        ...   \n",
            "\n",
            "    know people  know s  know think  knowledge  lack  lady  language  large  \\\n",
            "0             0       0           0          0     0     1         0      0   \n",
            "..          ...     ...         ...        ...   ...   ...       ...    ...   \n",
            "\n",
            "    late  lately  laugh  law  lazy  lead  lean  learn  leave  let  letter  \\\n",
            "0      2       0      0    0     0     0     0      2      2    0       0   \n",
            "..   ...     ...    ...  ...   ...   ...   ...    ...    ...  ...     ...   \n",
            "\n",
            "    level  lie  life  light  like  like good  like know  like like  \\\n",
            "0       0    0     2      0     3          0          0          0   \n",
            "..    ...  ...   ...    ...   ...        ...        ...        ...   \n",
            "\n",
            "    like people  like s  like think  likely  limit  line  link  list  listen  \\\n",
            "0             0       0           0       1      0     0     0     0       0   \n",
            "..          ...     ...         ...     ...    ...   ...   ...   ...     ...   \n",
            "\n",
            "    literally  little  little bite  live  logic  logical  lol  lonely  long  \\\n",
            "0           0       1            0     1      0        0    0       0     0   \n",
            "..        ...     ...          ...   ...    ...      ...  ...     ...   ...   \n",
            "\n",
            "    long time  look  look like  lose  lot  lot people  lot time  loud  love  \\\n",
            "0           0     0          0     0    0           0         0     0     0   \n",
            "..        ...   ...        ...   ...  ...         ...       ...   ...   ...   \n",
            "\n",
            "    low  luck  mad  main  mainly  major  majority  male  man  manage  marry  \\\n",
            "0     0     0    0     1       0      0         0     0    0       0      0   \n",
            "..  ...   ...  ...   ...     ...    ...       ...   ...  ...     ...    ...   \n",
            "\n",
            "    match  math  matt  maybe  mbti  mbti type  mean  meet  member  memory  \\\n",
            "0       1     0     0      1     0          0     1     0       0       0   \n",
            "..    ...   ...   ...    ...   ...        ...   ...   ...     ...     ...   \n",
            "\n",
            "    mental  mention  mess  message  middle  mind  minute  miss  mistake  \\\n",
            "0        0        0     0        0       1     0       1     0        0   \n",
            "..     ...      ...   ...      ...     ...   ...     ...   ...      ...   \n",
            "\n",
            "    misunderstand  mix  mom  moment  money  month  mood  moral  morning  \\\n",
            "0               0    0    0       2      0      0     0      0        0   \n",
            "..            ...  ...  ...     ...    ...    ...   ...    ...      ...   \n",
            "\n",
            "    mother  movie  multiple  music  n  natural  naturally  nature  ne  near  \\\n",
            "0        0      1         0      1  0        1          0       0   0     0   \n",
            "..     ...    ...       ...    ... ..      ...        ...     ...  ..   ...   \n",
            "\n",
            "    nearly  necessarily  need  negative  new  nf  ni  nice  night  normal  \\\n",
            "0        0            0     0         0    1   0   0     0      0       0   \n",
            "..     ...          ...   ...       ...  ...  ..  ..   ...    ...     ...   \n",
            "\n",
            "    normally  note  notice  numb  o  observe  obsess  obvious  obviously  odd  \\\n",
            "0          0     1       0     0  0        0       0        0          0    0   \n",
            "..       ...   ...     ...   ... ..      ...     ...      ...        ...  ...   \n",
            "\n",
            "    offend  offer  oh  okay  old  omg  online  op  open  opinion  opposite  \\\n",
            "0        0      0   0     0    1    0       0   0     0        0         0   \n",
            "..     ...    ...  ..   ...  ...  ...     ...  ..   ...      ...       ...   \n",
            "\n",
            "    option  order  organize  original  outside  p  page  pain  paint  paper  \\\n",
            "0        0      0         0         0        0  0     0     0      0      0   \n",
            "..     ...    ...       ...       ...      ... ..   ...   ...    ...    ...   \n",
            "\n",
            "    parent  particular  particularly  partner  party  pass  past  pattern  \\\n",
            "0        0           0             0        0      0     0     0        0   \n",
            "..     ...         ...           ...      ...    ...   ...   ...      ...   \n",
            "\n",
            "    pay  people  people know  people like  people think  perc  perceive  \\\n",
            "0     0       1            0            0             0     1         0   \n",
            "..  ...     ...          ...          ...           ...   ...       ...   \n",
            "\n",
            "    perfect  perfectly  period  person  personal  personality  \\\n",
            "0         0          0       0       2         0            0   \n",
            "..      ...        ...     ...     ...       ...          ...   \n",
            "\n",
            "    personality type  personally  perspective  philosophy  phone  photo  \\\n",
            "0                  0           0            0           0      0      0   \n",
            "..               ...         ...          ...         ...    ...    ...   \n",
            "\n",
            "    physical  physically  pick  picture  piece  piss  place  plan  play  plus  \\\n",
            "0          0           0     0        0      0     0      0     0     1     0   \n",
            "..       ...         ...   ...      ...    ...   ...    ...   ...   ...   ...   \n",
            "\n",
            "    point  poor  pop  position  positive  possibility  possible  possibly  \\\n",
            "0       0     0    0         1         0            0         0         0   \n",
            "..    ...   ...  ...       ...       ...          ...       ...       ...   \n",
            "\n",
            "    post  potential  power  practice  prefer  preference  present  pretend  \\\n",
            "0      1          0      0         0       0           0        0        0   \n",
            "..   ...        ...    ...       ...     ...         ...      ...      ...   \n",
            "\n",
            "    pretty  pretty good  pretty sure  probably  problem  process  profile  \\\n",
            "0        0            0            0         0        0        0        0   \n",
            "..     ...          ...          ...       ...      ...      ...      ...   \n",
            "\n",
            "    project  proud  prove  provide  psychology  public  pull  purpose  push  \\\n",
            "0         0      1      0        0           0       1     0        0     0   \n",
            "..      ...    ...    ...      ...         ...     ...   ...      ...   ...   \n",
            "\n",
            "    putt  quality  question  quick  quickly  quiet  quote  raise  random  \\\n",
            "0      0        0         0      0        1      0      0      0       0   \n",
            "..   ...      ...       ...    ...      ...    ...    ...    ...     ...   \n",
            "\n",
            "    rare  rarely  reach  reaction  read  ready  real  real life  realise  \\\n",
            "0      0       0      0         0     0      0     0          0        0   \n",
            "..   ...     ...    ...       ...   ...    ...   ...        ...      ...   \n",
            "\n",
            "    reality  realize  reason  receive  recently  recommend  red  refer  \\\n",
            "0         0        0       1        0         0          0    0      0   \n",
            "..      ...      ...     ...      ...       ...        ...  ...    ...   \n",
            "\n",
            "    regard  relate  relationship  relax  religion  religious  remember  \\\n",
            "0        0       0             1      0         0          0         0   \n",
            "..     ...     ...           ...    ...       ...        ...       ...   \n",
            "\n",
            "    remind  reply  require  research  respect  respond  response  rest  \\\n",
            "0        0      0        1         0        0        0         0     1   \n",
            "..     ...    ...      ...       ...      ...      ...       ...   ...   \n",
            "\n",
            "    result  right  rock  role  romantic  room  rule  run  s  s good  sad  \\\n",
            "0        0      1     0     0         0     1     0    0  2       0    1   \n",
            "..     ...    ...   ...   ...       ...   ...   ...  ... ..     ...  ...   \n",
            "\n",
            "    save  scare  school  science  score  se  search  season  seek  self  send  \\\n",
            "0      0      0       1        0      0   0       0       0     0     0     0   \n",
            "..   ...    ...     ...      ...    ...  ..     ...     ...   ...   ...   ...   \n",
            "\n",
            "    sense  sensitive  sensor  sentence  series  seriously  set  sex  sexual  \\\n",
            "0       0          0       0         1       0          0    1    0       0   \n",
            "..    ...        ...     ...       ...     ...        ...  ...  ...     ...   \n",
            "\n",
            "    share  shit  shock  shoot  shop  short  shut  shy  si  sick  sign  silly  \\\n",
            "0       1     0      0      0     0      0     0    0   0     0     0      0   \n",
            "..    ...   ...    ...    ...   ...    ...   ...  ...  ..   ...   ...    ...   \n",
            "\n",
            "    similar  simple  simply  single  sister  sit  site  situation  skill  \\\n",
            "0         0       0       0       0       0    1     0          0      0   \n",
            "..      ...     ...     ...     ...     ...  ...   ...        ...    ...   \n",
            "\n",
            "    sleep  slightly  slow  small  smart  smile  smoke  social  socially  \\\n",
            "0       0         0     0      0      0      0      0       1         0   \n",
            "..    ...       ...   ...    ...    ...    ...    ...     ...       ...   \n",
            "\n",
            "    society  socionics  solve  somebody  somewhat  song  soon  sorry  sort  \\\n",
            "0         1          0      0         0         1     0     0      1     1   \n",
            "..      ...        ...    ...       ...       ...   ...   ...    ...   ...   \n",
            "\n",
            "    soul  sound  sound like  source  space  speak  special  specific  \\\n",
            "0      0      0           0       0      0      1        0         0   \n",
            "..   ...    ...         ...     ...    ...    ...      ...       ...   \n",
            "\n",
            "    specifically  spend  spend time  spin-dry  sport  spot  stand  standard  \\\n",
            "0              0      0           0         0      0     0      0         0   \n",
            "..           ...    ...         ...       ...    ...   ...    ...       ...   \n",
            "\n",
            "    star  stare  start  state  statement  stay  step  stereotype  stick  stop  \\\n",
            "0      0      0      1      0          0     0     0           0      0     0   \n",
            "..   ...    ...    ...    ...        ...   ...   ...         ...    ...   ...   \n",
            "\n",
            "    store  story  straight  strange  stress  strike  strong  strongly  \\\n",
            "0       0      0         0        0       0       0       0         0   \n",
            "..    ...    ...       ...      ...     ...     ...     ...       ...   \n",
            "\n",
            "    struggle  student  study  stuff  stupid  style  subject  suck  suffer  \\\n",
            "0          0        0      0      1       0      0        0     0       0   \n",
            "..       ...      ...    ...    ...     ...    ...      ...   ...     ...   \n",
            "\n",
            "    suggest  summer  super  support  suppose  sure  surprise  sweet  system  \\\n",
            "0         0       0      0        0        0     0         0      0       0   \n",
            "..      ...     ...    ...      ...      ...   ...       ...    ...     ...   \n",
            "\n",
            "    t  talk  tapatalk  taste  te  teach  teacher  tear  tell  tend  tendency  \\\n",
            "0   0     0         0      0   0      1        0     0     0     0         0   \n",
            ".. ..   ...       ...    ...  ..    ...      ...   ...   ...   ...       ...   \n",
            "\n",
            "    term  terrible  test  text  th  thank  theory  thing  thing like  \\\n",
            "0      0         0     0     0   0      0       0      3           0   \n",
            "..   ...       ...   ...   ...  ..    ...     ...    ...         ...   \n",
            "\n",
            "    thing think  think  think good  think know  think like  think people  \\\n",
            "0             0      2           0           0           0             0   \n",
            "..          ...    ...         ...         ...         ...           ...   \n",
            "\n",
            "    think s  think thing  think think  thinker  thought  thread  throw  ti  \\\n",
            "0         0            0            0        0        0       1      0   0   \n",
            "..      ...          ...          ...      ...      ...     ...    ...  ..   \n",
            "\n",
            "    time  time think  tire  title  today  tongue  topic  totally  touch  \\\n",
            "0      6           0     0      0      2       0      0        0      0   \n",
            "..   ...         ...   ...    ...    ...     ...    ...      ...    ...   \n",
            "\n",
            "    tough  train  trait  travel  treat  troll  trouble  true  truly  trust  \\\n",
            "0       0      0      0       0      0      0        0     0      0      0   \n",
            "..    ...    ...    ...     ...    ...    ...      ...   ...    ...    ...   \n",
            "\n",
            "    truth  try  turn  tv  type  typical  typically  u  uncomfortable  \\\n",
            "0       0    2     0   0     3        0          0  0              0   \n",
            "..    ...  ...   ...  ..   ...      ...        ... ..            ...   \n",
            "\n",
            "    understand  unfortunately  unhealthy  universe  university  unsure  upset  \\\n",
            "0            0              0          0         0           0       0      0   \n",
            "..         ...            ...        ...       ...         ...     ...    ...   \n",
            "\n",
            "    url  url url  use  use tapatalk  useful  user  usually  value  version  \\\n",
            "0    24        8    2             0       0     0        0      0        0   \n",
            "..  ...      ...  ...           ...     ...   ...      ...    ...      ...   \n",
            "\n",
            "    video  view  visit  voice  vote  vs  w  w w  wait  wake  walk  wall  \\\n",
            "0       3     0      0      0     0   0  0    0     1     0     0     1   \n",
            "..    ...   ...    ...    ...   ...  .. ..  ...   ...   ...   ...   ...   \n",
            "\n",
            "    wanna  want  want know  war  warm  waste  watch  water  way  weak  wear  \\\n",
            "0       0     1          0    0     0      0      1      0    1     0     0   \n",
            "..    ...   ...        ...  ...   ...    ...    ...    ...  ...   ...   ...   \n",
            "\n",
            "    website  week  weird  welcome  welcome forum  white  wife  win  wink  \\\n",
            "0         0     0      0        2              0      0     0    0     0   \n",
            "..      ...   ...    ...      ...            ...    ...   ...  ...   ...   \n",
            "\n",
            "    wish  woman  wonder  wonderful  word  work  world  worry  worth  wow  \\\n",
            "0      0      0       0          0     0     0      2      1      0    0   \n",
            "..   ...    ...     ...        ...   ...   ...    ...    ...    ...  ...   \n",
            "\n",
            "    write  wrong  x  xd  year  year ago  year old  yep  yes  yes think  \\\n",
            "0       0      0  0   0     1         1         0    1    0          0   \n",
            "..    ...    ... ..  ..   ...       ...       ...  ...  ...        ...   \n",
            "\n",
            "    yesterday  young  youtube  ﻿1  ﻿1 time  \n",
            "0           0      0        0   0        0  \n",
            "..        ...    ...      ...  ..      ...  \n",
            "\n"
          ],
          "name": "stdout"
        },
        {
          "output_type": "stream",
          "text": [
            "[8675 rows x 1000 columns]\n"
          ],
          "name": "stdout"
        }
      ]
    },
    {
      "cell_type": "code",
      "metadata": {
        "id": "U0JxRrWzVz4Q",
        "colab_type": "code",
        "colab": {}
      },
      "source": [
        ""
      ],
      "execution_count": 0,
      "outputs": []
    },
    {
      "cell_type": "code",
      "metadata": {
        "id": "uL0fa4hlVz4V",
        "colab_type": "code",
        "outputId": "946c68c8-2e93-4872-ccc1-5d1f811a9939",
        "colab": {}
      },
      "source": [
        "#Determine baseline\n",
        "baseline = train_df['type'].value_counts().max() / train_df['type'].value_counts().sum()\n",
        "baseline"
      ],
      "execution_count": 0,
      "outputs": [
        {
          "output_type": "execute_result",
          "data": {
            "text/plain": [
              "0.21303412234860128"
            ]
          },
          "metadata": {
            "tags": []
          },
          "execution_count": 51
        }
      ]
    },
    {
      "cell_type": "code",
      "metadata": {
        "id": "BxSi_qhoVz4e",
        "colab_type": "code",
        "colab": {}
      },
      "source": [
        "#My Features per personality type\n",
        "#Introversion - Extroversion\n",
        "X_intro_extro = all_df['cleaned_posts'].values\n",
        "y_intro_extro = all_df['I-E'].values\n",
        "\n",
        "#Intuition - Sensing\n",
        "X_intu_sens = all_df['cleaned_posts'].values\n",
        "y_intu_sens = all_df['N-S'].values\n",
        "\n",
        "#Thinking - Feeling\n",
        "X_think_feel = all_df['cleaned_posts'].values\n",
        "y_think_feel = all_df['T-F'].values\n",
        "\n",
        "#Judging - Perceiving\n",
        "X_jud_perc = all_df['cleaned_posts'].values\n",
        "y_jud_perc = all_df['J-P'].values"
      ],
      "execution_count": 0,
      "outputs": []
    },
    {
      "cell_type": "code",
      "metadata": {
        "id": "n7NHw-CKVz4o",
        "colab_type": "code",
        "colab": {}
      },
      "source": [
        "# Train-test splits, using type variables as target and posts variable as predictor\n",
        "# Introversion - Extroversion\n",
        "X_train_IE, X_test_IE, y_train_IE, y_test_IE = train_test_split(X_intro_extro,\n",
        "                                                   y_intro_extro,\n",
        "                                                   test_size=0.25, random_state=42)"
      ],
      "execution_count": 0,
      "outputs": []
    },
    {
      "cell_type": "code",
      "metadata": {
        "id": "YFW8EGS1Vz4t",
        "colab_type": "code",
        "outputId": "4def239b-65f8-440d-946f-d288dd93753e",
        "colab": {}
      },
      "source": [
        "print('X_train: ', X_train_IE.shape)\n",
        "print('X_test: ', X_test_IE.shape)\n",
        "print('y_train: ', y_train_IE.shape)\n",
        "print('y_test: ', y_test_IE.shape)"
      ],
      "execution_count": 0,
      "outputs": [
        {
          "output_type": "stream",
          "text": [
            "X_train:  (6506,)\n",
            "X_test:  (2169,)\n",
            "y_train:  (6506,)\n",
            "y_test:  (2169,)\n"
          ],
          "name": "stdout"
        }
      ]
    },
    {
      "cell_type": "code",
      "metadata": {
        "id": "5DD28S-uVz42",
        "colab_type": "code",
        "colab": {}
      },
      "source": [
        "#Run CountVectorizer on the X train/test 'cleaned_posts' column using the arguments identified earlier\n",
        "cv = CountVectorizer(tokenizer = spacy_tokenizer,preprocessor=None, stop_words=None, ngram_range=(1,2), max_features=1000)\n",
        "cv.fit(X_train_IE)\n",
        "X_train_cv = cv.transform(X_train_IE)"
      ],
      "execution_count": 0,
      "outputs": []
    },
    {
      "cell_type": "code",
      "metadata": {
        "id": "bhjk1RIOVz5A",
        "colab_type": "code",
        "outputId": "b4152419-266a-4692-a60f-4904a31627a4",
        "colab": {}
      },
      "source": [
        "#Use max components and graph the explained variance ratio to find cutoff point \n",
        "t_svd = TruncatedSVD(n_components=999)\n",
        "t_svd.fit(X_train_cv)\n",
        "plt.plot(range(999), t_svd.explained_variance_ratio_.cumsum())\n",
        "plt.title(\"Truncated SVD - Optimal # of components (for binary classification models)\", fontsize=16)\n",
        "plt.xlabel(\"# of components\")\n",
        "plt.ylabel(\"Explained variance ratio\");"
      ],
      "execution_count": 0,
      "outputs": [
        {
          "output_type": "display_data",
          "data": {
            "image/png": "[encoded data removed]",
            "text/plain": [
              "<Figure size 432x288 with 1 Axes>"
            ]
          },
          "metadata": {
            "tags": [],
            "needs_background": "light"
          }
        }
      ]
    },
    {
      "cell_type": "markdown",
      "metadata": {
        "id": "KfCt-VAIVz5H",
        "colab_type": "text"
      },
      "source": [
        "The graph above suggests that approximately 100 components would be most effective for the binary classification models, since that is where the explained variance begins to flatten out."
      ]
    },
    {
      "cell_type": "markdown",
      "metadata": {
        "id": "oqccWhCuVz5K",
        "colab_type": "text"
      },
      "source": [
        "#### Preprocessing Pipeline for the binary classifications"
      ]
    },
    {
      "cell_type": "code",
      "metadata": {
        "id": "pjGwc5PxVz5M",
        "colab_type": "code",
        "colab": {}
      },
      "source": [
        "#Pipeline for the data preprocessing steps (CountVectorizer, TruncatedSVD) on the X data\n",
        "from sklearn.pipeline import make_pipeline\n",
        "pipeline_preprocessing = make_pipeline(\n",
        "    CountVectorizer(tokenizer = spacy_tokenizer,preprocessor=None, stop_words=None, ngram_range=(1,2), max_features=1000),\n",
        "    TruncatedSVD(n_components=100))\n",
        "\n",
        "X_train_IE_p = pipeline_preprocessing.fit_transform(X_train_IE)\n",
        "X_test_IE_p = pipeline_preprocessing.transform(X_test_IE)"
      ],
      "execution_count": 0,
      "outputs": []
    },
    {
      "cell_type": "code",
      "metadata": {
        "id": "J5F3jXG3Vz5g",
        "colab_type": "code",
        "colab": {}
      },
      "source": [
        "#Use SMOTE (Synthetic Minority Over-sampling Technique) to even out the unbalanced test sample\n",
        "#sm = SMOTE()\n",
        "#Xsm_train_IE_p, ysm_train_IE = sm.fit_sample(X_train_IE_p, y_train_IE)"
      ],
      "execution_count": 0,
      "outputs": []
    },
    {
      "cell_type": "code",
      "metadata": {
        "id": "7WebstZgVz5l",
        "colab_type": "code",
        "colab": {}
      },
      "source": [
        ""
      ],
      "execution_count": 0,
      "outputs": []
    },
    {
      "cell_type": "code",
      "metadata": {
        "id": "kJrgJi5KVz5o",
        "colab_type": "code",
        "outputId": "eca5e5ba-644c-4499-c860-d931edda5ac9",
        "colab": {}
      },
      "source": [
        "log_reg = LogisticRegression()\n",
        "#log_reg.fit(X_train_IE_p,y_train_IE)\n",
        "log_reg.fit(X_train_IE_p,y_train_IE)"
      ],
      "execution_count": 0,
      "outputs": [
        {
          "output_type": "stream",
          "text": [
            "C:\\ProgramData\\Anaconda3\\lib\\site-packages\\sklearn\\linear_model\\logistic.py:433: FutureWarning: Default solver will be changed to 'lbfgs' in 0.22. Specify a solver to silence this warning.\n",
            "  FutureWarning)\n"
          ],
          "name": "stderr"
        },
        {
          "output_type": "execute_result",
          "data": {
            "text/plain": [
              "LogisticRegression(C=1.0, class_weight=None, dual=False, fit_intercept=True,\n",
              "          intercept_scaling=1, max_iter=100, multi_class='warn',\n",
              "          n_jobs=None, penalty='l2', random_state=None, solver='warn',\n",
              "          tol=0.0001, verbose=0, warm_start=False)"
            ]
          },
          "metadata": {
            "tags": []
          },
          "execution_count": 89
        }
      ]
    },
    {
      "cell_type": "code",
      "metadata": {
        "id": "nfJnuROcVz5w",
        "colab_type": "code",
        "outputId": "daa00106-c7a3-4852-fecb-19ca289a5e4e",
        "colab": {}
      },
      "source": [
        "print(\"TRAINING SET\")\n",
        "print(\"Accuracy: \", log_reg.score(X_train_IE_p, y_train_IE))\n",
        "print(\"Confusion Matrix (counts):\")\n",
        "print(confusion_matrix(y_train_IE, log_reg.predict(X_train_IE_p)))\n",
        "print(\"Classification Report:\")\n",
        "print(classification_report(y_train_IE, log_reg.predict(X_train_IE_p)))"
      ],
      "execution_count": 0,
      "outputs": [
        {
          "output_type": "stream",
          "text": [
            "TRAINING SET\n",
            "Accuracy:  0.7745158315401168\n",
            "Confusion Matrix (counts):\n",
            "[[4854  127]\n",
            " [1340  185]]\n",
            "Classification Report:\n",
            "              precision    recall  f1-score   support\n",
            "\n",
            "           0       0.78      0.97      0.87      4981\n",
            "           1       0.59      0.12      0.20      1525\n",
            "\n",
            "   micro avg       0.77      0.77      0.77      6506\n",
            "   macro avg       0.69      0.55      0.54      6506\n",
            "weighted avg       0.74      0.77      0.71      6506\n",
            "\n"
          ],
          "name": "stdout"
        }
      ]
    },
    {
      "cell_type": "code",
      "metadata": {
        "id": "HBIjoKL7Vz54",
        "colab_type": "code",
        "colab": {}
      },
      "source": [
        "ie_pred = log_reg.predict(X_test_IE_p)"
      ],
      "execution_count": 0,
      "outputs": []
    },
    {
      "cell_type": "code",
      "metadata": {
        "id": "tdBRENDsVz6C",
        "colab_type": "code",
        "outputId": "2723f9a9-509b-4a10-ea1c-5a2ebb169b1c",
        "colab": {}
      },
      "source": [
        "print(\"TEST SET\")\n",
        "print(\"Accuracy: \", log_reg.score(X_test_IE_p, y_test_IE))\n",
        "print(\"Confusion Matrix:\")\n",
        "print(confusion_matrix(y_test_IE, log_reg.predict(X_test_IE_p)))\n",
        "print(\"Classification Report:\")\n",
        "print(classification_report(y_test_IE, log_reg.predict(X_test_IE_p)))"
      ],
      "execution_count": 0,
      "outputs": [
        {
          "output_type": "stream",
          "text": [
            "TEST SET\n",
            "Accuracy:  0.7879207007837713\n",
            "Confusion Matrix:\n",
            "[[1658   39]\n",
            " [ 421   51]]\n",
            "Classification Report:\n",
            "              precision    recall  f1-score   support\n",
            "\n",
            "           0       0.80      0.98      0.88      1697\n",
            "           1       0.57      0.11      0.18       472\n",
            "\n",
            "   micro avg       0.79      0.79      0.79      2169\n",
            "   macro avg       0.68      0.54      0.53      2169\n",
            "weighted avg       0.75      0.79      0.73      2169\n",
            "\n"
          ],
          "name": "stdout"
        }
      ]
    },
    {
      "cell_type": "code",
      "metadata": {
        "id": "6pHlD40oVz6I",
        "colab_type": "code",
        "colab": {}
      },
      "source": [
        "# Intuition - Sensing\n",
        "X_train_NS, X_test_NS, y_train_NS, y_test_NS = train_test_split(X_intu_sens,\n",
        "                                                   y_intu_sens,\n",
        "                                                   test_size=0.25, random_state=42)\n",
        "# Thinking - Feeling\n",
        "X_train_TF, X_test_TF, y_train_TF, y_test_TF = train_test_split(X_think_feel,\n",
        "                                                   y_think_feel,\n",
        "                                                   test_size=0.25, random_state=42)\n",
        "# Judging - Perceiving\n",
        "X_train_JP, X_test_JP, y_train_JP, y_test_JP = train_test_split(X_jud_perc,\n",
        "                                                   y_jud_perc,\n",
        "                                                   test_size=0.25, random_state=42)"
      ],
      "execution_count": 0,
      "outputs": []
    },
    {
      "cell_type": "code",
      "metadata": {
        "id": "-Cmxy3aBVz6M",
        "colab_type": "code",
        "colab": {}
      },
      "source": [
        "#Pipeline for other three groups\n",
        "pipeline_preprocessing2 = make_pipeline(\n",
        "    CountVectorizer(tokenizer = spacy_tokenizer,preprocessor=None, stop_words=None, ngram_range=(1,2), max_features=1000),\n",
        "    TruncatedSVD(n_components=100))"
      ],
      "execution_count": 0,
      "outputs": []
    },
    {
      "cell_type": "code",
      "metadata": {
        "id": "VDn7Rd4tVz6Q",
        "colab_type": "code",
        "colab": {}
      },
      "source": [
        "#Intuition - Sensing Pipeline\n",
        "X_train_NS_p = pipeline_preprocessing2.fit_transform(X_train_NS)\n",
        "X_test_NS_p = pipeline_preprocessing2.transform(X_test_NS)"
      ],
      "execution_count": 0,
      "outputs": []
    },
    {
      "cell_type": "code",
      "metadata": {
        "id": "ycYVz20MVz6Y",
        "colab_type": "code",
        "colab": {}
      },
      "source": [
        "#Thinking - Feeling Pipeline\n",
        "X_train_TF_p = pipeline_preprocessing2.fit_transform(X_train_TF)\n",
        "X_test_TF_p = pipeline_preprocessing2.transform(X_test_TF)"
      ],
      "execution_count": 0,
      "outputs": []
    },
    {
      "cell_type": "code",
      "metadata": {
        "id": "ZsNKem5sVz6c",
        "colab_type": "code",
        "colab": {}
      },
      "source": [
        "#Judging - Perceiving Pipeline\n",
        "X_train_JP_p = pipeline_preprocessing2.fit_transform(X_train_JP)\n",
        "X_test_JP_p = pipeline_preprocessing2.transform(X_test_JP)"
      ],
      "execution_count": 0,
      "outputs": []
    },
    {
      "cell_type": "code",
      "metadata": {
        "id": "VwTWJ5aHVz6h",
        "colab_type": "code",
        "colab": {}
      },
      "source": [
        "#Use SMOTE (Synthetic Minority Over-sampling Technique) to even out the unbalanced test sample\n",
        "#sm = SMOTE()\n",
        "#Xsm_train_NS_p, ysm_train_NS = sm.fit_sample(X_train_NS_p, y_train_NS)"
      ],
      "execution_count": 0,
      "outputs": []
    },
    {
      "cell_type": "code",
      "metadata": {
        "id": "RDFxKIMPVz6o",
        "colab_type": "code",
        "colab": {}
      },
      "source": [
        ""
      ],
      "execution_count": 0,
      "outputs": []
    },
    {
      "cell_type": "code",
      "metadata": {
        "id": "La0_bY2hVz6z",
        "colab_type": "code",
        "colab": {}
      },
      "source": [
        ""
      ],
      "execution_count": 0,
      "outputs": []
    },
    {
      "cell_type": "code",
      "metadata": {
        "id": "lutkXJuzVz7E",
        "colab_type": "code",
        "colab": {}
      },
      "source": [
        ""
      ],
      "execution_count": 0,
      "outputs": []
    },
    {
      "cell_type": "code",
      "metadata": {
        "id": "dJsXqmb5Vz7H",
        "colab_type": "code",
        "outputId": "3e0b3305-53bd-49a5-8088-5725bd5119d2",
        "colab": {}
      },
      "source": [
        "#Intuition - Sensing Model Training\n",
        "log_reg2 = LogisticRegression()\n",
        "train_fit = log_reg2.fit(X_train_NS_p,y_train_NS)"
      ],
      "execution_count": 0,
      "outputs": [
        {
          "output_type": "stream",
          "text": [
            "C:\\ProgramData\\Anaconda3\\lib\\site-packages\\sklearn\\linear_model\\logistic.py:433: FutureWarning: Default solver will be changed to 'lbfgs' in 0.22. Specify a solver to silence this warning.\n",
            "  FutureWarning)\n"
          ],
          "name": "stderr"
        }
      ]
    },
    {
      "cell_type": "code",
      "metadata": {
        "id": "K3hQrmJ1Vz7T",
        "colab_type": "code",
        "colab": {}
      },
      "source": [
        "#Intuition - Sensing Model Testing\n",
        "ns_pred = log_reg2.predict(X_test_NS_p)"
      ],
      "execution_count": 0,
      "outputs": []
    },
    {
      "cell_type": "code",
      "metadata": {
        "id": "Nh4jO0sRVz7g",
        "colab_type": "code",
        "outputId": "fc875191-2832-45e1-d1ba-ae638b2b94ef",
        "colab": {}
      },
      "source": [
        "print(\"TRAINING SET\")\n",
        "print(\"Accuracy: \", log_reg2.score(X_train_NS_p, y_train_NS))\n",
        "print(\"Confusion Matrix (counts):\")\n",
        "print(confusion_matrix(y_train_NS, log_reg2.predict(X_train_NS_p)))\n",
        "print(\"Classification Report:\")\n",
        "print(classification_report(y_train_NS, log_reg2.predict(X_train_NS_p)))"
      ],
      "execution_count": 0,
      "outputs": [
        {
          "output_type": "stream",
          "text": [
            "TRAINING SET\n",
            "Accuracy:  0.8627420842299416\n",
            "Confusion Matrix (counts):\n",
            "[[  17  885]\n",
            " [   8 5596]]\n",
            "Classification Report:\n",
            "              precision    recall  f1-score   support\n",
            "\n",
            "           0       0.68      0.02      0.04       902\n",
            "           1       0.86      1.00      0.93      5604\n",
            "\n",
            "   micro avg       0.86      0.86      0.86      6506\n",
            "   macro avg       0.77      0.51      0.48      6506\n",
            "weighted avg       0.84      0.86      0.80      6506\n",
            "\n"
          ],
          "name": "stdout"
        }
      ]
    },
    {
      "cell_type": "code",
      "metadata": {
        "id": "RRvh3RtIVz7n",
        "colab_type": "code",
        "outputId": "3185578c-63ad-47d3-b809-8d6a4f28ee30",
        "colab": {}
      },
      "source": [
        "print(\"TEST SET\")\n",
        "print(\"Accuracy: \", log_reg2.score(X_test_NS_p, y_test_NS))\n",
        "print(\"Confusion Matrix:\")\n",
        "print(confusion_matrix(y_test_NS, log_reg2.predict(X_test_NS_p)))\n",
        "print(\"Classification Report:\")\n",
        "print(classification_report(y_test_NS, log_reg2.predict(X_test_NS_p)))"
      ],
      "execution_count": 0,
      "outputs": [
        {
          "output_type": "stream",
          "text": [
            "TEST SET\n",
            "Accuracy:  0.8658367911479945\n",
            "Confusion Matrix:\n",
            "[[   4  288]\n",
            " [   3 1874]]\n",
            "Classification Report:\n",
            "              precision    recall  f1-score   support\n",
            "\n",
            "           0       0.57      0.01      0.03       292\n",
            "           1       0.87      1.00      0.93      1877\n",
            "\n",
            "   micro avg       0.87      0.87      0.87      2169\n",
            "   macro avg       0.72      0.51      0.48      2169\n",
            "weighted avg       0.83      0.87      0.81      2169\n",
            "\n"
          ],
          "name": "stdout"
        }
      ]
    },
    {
      "cell_type": "code",
      "metadata": {
        "id": "VMMpw238Vz70",
        "colab_type": "code",
        "outputId": "bd2ef2dd-037e-437d-a51b-4d9435aa8e55",
        "colab": {}
      },
      "source": [
        "#Thinking - Feeling Model Training\n",
        "log_reg3 = LogisticRegression()\n",
        "train_fit3 = log_reg3.fit(X_train_TF_p,y_train_TF)"
      ],
      "execution_count": 0,
      "outputs": [
        {
          "output_type": "stream",
          "text": [
            "C:\\ProgramData\\Anaconda3\\lib\\site-packages\\sklearn\\linear_model\\logistic.py:433: FutureWarning: Default solver will be changed to 'lbfgs' in 0.22. Specify a solver to silence this warning.\n",
            "  FutureWarning)\n"
          ],
          "name": "stderr"
        }
      ]
    },
    {
      "cell_type": "code",
      "metadata": {
        "id": "tLotFqOBVz75",
        "colab_type": "code",
        "colab": {}
      },
      "source": [
        "#Thinking - Feeling Model Testing\n",
        "tf_pred = log_reg3.predict(X_test_TF_p)"
      ],
      "execution_count": 0,
      "outputs": []
    },
    {
      "cell_type": "code",
      "metadata": {
        "id": "vMeiL8TMVz7_",
        "colab_type": "code",
        "outputId": "5a6d9e90-a544-4028-d0f8-84e71d706492",
        "colab": {}
      },
      "source": [
        "print(\"TRAINING SET\")\n",
        "print(\"Accuracy: \", log_reg3.score(X_train_TF_p, y_train_TF))\n",
        "print(\"Confusion Matrix (counts):\")\n",
        "print(confusion_matrix(y_train_TF, log_reg3.predict(X_train_TF_p)))\n",
        "print(\"Classification Report:\")\n",
        "print(classification_report(y_train_TF, log_reg3.predict(X_train_TF_p)))"
      ],
      "execution_count": 0,
      "outputs": [
        {
          "output_type": "stream",
          "text": [
            "TRAINING SET\n",
            "Accuracy:  0.7299415923762681\n",
            "Confusion Matrix (counts):\n",
            "[[2642  847]\n",
            " [ 910 2107]]\n",
            "Classification Report:\n",
            "              precision    recall  f1-score   support\n",
            "\n",
            "           0       0.74      0.76      0.75      3489\n",
            "           1       0.71      0.70      0.71      3017\n",
            "\n",
            "   micro avg       0.73      0.73      0.73      6506\n",
            "   macro avg       0.73      0.73      0.73      6506\n",
            "weighted avg       0.73      0.73      0.73      6506\n",
            "\n"
          ],
          "name": "stdout"
        }
      ]
    },
    {
      "cell_type": "code",
      "metadata": {
        "id": "U9nrnBeLVz8K",
        "colab_type": "code",
        "outputId": "b1bbebfe-8fea-45f0-c35d-f30c8e817313",
        "colab": {}
      },
      "source": [
        "print(\"TEST SET\")\n",
        "print(\"Accuracy: \", log_reg3.score(X_test_TF_p, y_test_TF))\n",
        "print(\"Confusion Matrix:\")\n",
        "print(confusion_matrix(y_test_TF, log_reg3.predict(X_test_TF_p)))\n",
        "print(\"Classification Report:\")\n",
        "print(classification_report(y_test_TF, log_reg3.predict(X_test_TF_p)))"
      ],
      "execution_count": 0,
      "outputs": [
        {
          "output_type": "stream",
          "text": [
            "TEST SET\n",
            "Accuracy:  0.7044721069617336\n",
            "Confusion Matrix:\n",
            "[[875 318]\n",
            " [323 653]]\n",
            "Classification Report:\n",
            "              precision    recall  f1-score   support\n",
            "\n",
            "           0       0.73      0.73      0.73      1193\n",
            "           1       0.67      0.67      0.67       976\n",
            "\n",
            "   micro avg       0.70      0.70      0.70      2169\n",
            "   macro avg       0.70      0.70      0.70      2169\n",
            "weighted avg       0.70      0.70      0.70      2169\n",
            "\n"
          ],
          "name": "stdout"
        }
      ]
    },
    {
      "cell_type": "code",
      "metadata": {
        "id": "nQsCHD2fVz8Q",
        "colab_type": "code",
        "colab": {}
      },
      "source": [
        "#Use SMOTE (Synthetic Minority Over-sampling Technique) to even out the unbalanced test sample\n",
        "#sm = SMOTE()\n",
        "#Xsm_train_JP_p, ysm_train_JP = sm.fit_sample(X_train_JP_p, y_train_JP)"
      ],
      "execution_count": 0,
      "outputs": []
    },
    {
      "cell_type": "code",
      "metadata": {
        "id": "XzYewkouVz8T",
        "colab_type": "code",
        "colab": {}
      },
      "source": [
        ""
      ],
      "execution_count": 0,
      "outputs": []
    },
    {
      "cell_type": "code",
      "metadata": {
        "id": "V5Uv__zDVz8Z",
        "colab_type": "code",
        "outputId": "e698a9a2-4e60-4bd7-c51f-4346489c28a1",
        "colab": {}
      },
      "source": [
        "#Judging - Perceiving Model Training\n",
        "log_reg4 = LogisticRegression()\n",
        "train_fit4 = log_reg4.fit(X_train_JP_p,y_train_JP)"
      ],
      "execution_count": 0,
      "outputs": [
        {
          "output_type": "stream",
          "text": [
            "C:\\ProgramData\\Anaconda3\\lib\\site-packages\\sklearn\\linear_model\\logistic.py:433: FutureWarning: Default solver will be changed to 'lbfgs' in 0.22. Specify a solver to silence this warning.\n",
            "  FutureWarning)\n"
          ],
          "name": "stderr"
        }
      ]
    },
    {
      "cell_type": "code",
      "metadata": {
        "id": "znbCbN2PVz8j",
        "colab_type": "code",
        "colab": {}
      },
      "source": [
        "#Judging - Perceiving Model Testing\n",
        "jp_pred = log_reg4.predict(X_test_JP_p)"
      ],
      "execution_count": 0,
      "outputs": []
    },
    {
      "cell_type": "code",
      "metadata": {
        "id": "rlNrV5SrVz8m",
        "colab_type": "code",
        "outputId": "ea3cd97d-fed8-49e3-bb20-0f437ab627c2",
        "colab": {}
      },
      "source": [
        "print(\"TRAINING SET\")\n",
        "print(\"Accuracy: \", log_reg4.score(X_train_JP_p, y_train_JP))\n",
        "print(\"Confusion Matrix (counts):\")\n",
        "print(confusion_matrix(y_train_JP, log_reg4.predict(X_train_JP_p)))\n",
        "print(\"Classification Report:\")\n",
        "print(classification_report(y_train_JP, log_reg4.predict(X_train_JP_p)))"
      ],
      "execution_count": 0,
      "outputs": [
        {
          "output_type": "stream",
          "text": [
            "TRAINING SET\n",
            "Accuracy:  0.6715339686443283\n",
            "Confusion Matrix (counts):\n",
            "[[3382  556]\n",
            " [1581  987]]\n",
            "Classification Report:\n",
            "              precision    recall  f1-score   support\n",
            "\n",
            "           0       0.68      0.86      0.76      3938\n",
            "           1       0.64      0.38      0.48      2568\n",
            "\n",
            "   micro avg       0.67      0.67      0.67      6506\n",
            "   macro avg       0.66      0.62      0.62      6506\n",
            "weighted avg       0.66      0.67      0.65      6506\n",
            "\n"
          ],
          "name": "stdout"
        }
      ]
    },
    {
      "cell_type": "code",
      "metadata": {
        "id": "st1vbBnfVz8r",
        "colab_type": "code",
        "outputId": "982f756e-a839-4023-8701-b9fa2605b5eb",
        "colab": {}
      },
      "source": [
        "print(\"TEST SET\")\n",
        "print(\"Accuracy: \", log_reg4.score(X_test_JP_p, y_test_JP))\n",
        "print(\"Confusion Matrix:\")\n",
        "print(confusion_matrix(y_test_JP, log_reg4.predict(X_test_JP_p)))\n",
        "print(\"Classification Report:\")\n",
        "print(classification_report(y_test_JP, log_reg4.predict(X_test_JP_p)))"
      ],
      "execution_count": 0,
      "outputs": [
        {
          "output_type": "stream",
          "text": [
            "TEST SET\n",
            "Accuracy:  0.661134163208852\n",
            "Confusion Matrix:\n",
            "[[1134  185]\n",
            " [ 550  300]]\n",
            "Classification Report:\n",
            "              precision    recall  f1-score   support\n",
            "\n",
            "           0       0.67      0.86      0.76      1319\n",
            "           1       0.62      0.35      0.45       850\n",
            "\n",
            "   micro avg       0.66      0.66      0.66      2169\n",
            "   macro avg       0.65      0.61      0.60      2169\n",
            "weighted avg       0.65      0.66      0.64      2169\n",
            "\n"
          ],
          "name": "stdout"
        }
      ]
    },
    {
      "cell_type": "code",
      "metadata": {
        "id": "4wcusLJ-Vz8w",
        "colab_type": "code",
        "outputId": "4d6f1fad-d9cc-4b8c-cb43-8584df985ecc",
        "colab": {}
      },
      "source": [
        "from sklearn.metrics import log_loss\n",
        "\n",
        "score = log_loss(y_test_IE, ie_pred)\n",
        "print(score)"
      ],
      "execution_count": 0,
      "outputs": [
        {
          "output_type": "stream",
          "text": [
            "7.324973870889208\n"
          ],
          "name": "stdout"
        }
      ]
    },
    {
      "cell_type": "code",
      "metadata": {
        "id": "8GhrDindVz82",
        "colab_type": "code",
        "outputId": "b0857d69-6d16-4310-e751-2bc0e7716012",
        "colab": {}
      },
      "source": [
        "#Fit and score a Random Forest Classifier on SMOTEd data using the parameters identified by the grid search\n",
        "from sklearn.ensemble import RandomForestClassifier\n",
        "rfc = RandomForestClassifier(min_samples_leaf=1, min_samples_split=6, n_estimators=76, \n",
        "                             criterion='gini', bootstrap='False', n_jobs= -1, random_state=123)\n",
        "rfc.fit(X_train_IE_p, y_train_IE)\n",
        "print(\"TRAINING SET\")\n",
        "print(\"Accuracy: \", rfc.score(X_train_IE_p, y_train_IE))\n",
        "print(\"Confusion Matrix (counts):\")\n",
        "print(confusion_matrix(y_train_IE, rfc.predict(X_train_IE_p)))\n",
        "print(\"Classification Report:\")\n",
        "print(classification_report(y_train_IE, rfc.predict(X_train_IE_p)))\n",
        "print(\"\")\n",
        "\n",
        "ie_test = rfc.predict(X_test_IE_p)\n",
        "\n",
        "print(\"TEST SET\")\n",
        "print(\"Accuracy: \", rfc.score(X_test_IE_p, y_test_IE))\n",
        "print(\"Confusion Matrix (counts):\")\n",
        "print(confusion_matrix(y_test_IE, rfc.predict(X_test_IE_p)))\n",
        "print(\"Classification Report:\")\n",
        "print(classification_report(y_test_IE, rfc.predict(X_test_IE_p)))"
      ],
      "execution_count": 0,
      "outputs": [
        {
          "output_type": "stream",
          "text": [
            "TRAINING SET\n",
            "Accuracy:  0.9996925914540424\n",
            "Confusion Matrix (counts):\n",
            "[[4981    0]\n",
            " [   2 1523]]\n",
            "Classification Report:\n",
            "              precision    recall  f1-score   support\n",
            "\n",
            "           0       1.00      1.00      1.00      4981\n",
            "           1       1.00      1.00      1.00      1525\n",
            "\n",
            "   micro avg       1.00      1.00      1.00      6506\n",
            "   macro avg       1.00      1.00      1.00      6506\n",
            "weighted avg       1.00      1.00      1.00      6506\n",
            "\n",
            "\n",
            "TEST SET\n",
            "Accuracy:  0.7823881973259567\n",
            "Confusion Matrix (counts):\n",
            "[[1694    3]\n",
            " [ 469    3]]\n",
            "Classification Report:\n",
            "              precision    recall  f1-score   support\n",
            "\n",
            "           0       0.78      1.00      0.88      1697\n",
            "           1       0.50      0.01      0.01       472\n",
            "\n",
            "   micro avg       0.78      0.78      0.78      2169\n",
            "   macro avg       0.64      0.50      0.45      2169\n",
            "weighted avg       0.72      0.78      0.69      2169\n",
            "\n"
          ],
          "name": "stdout"
        }
      ]
    },
    {
      "cell_type": "code",
      "metadata": {
        "id": "Z3qd0eqmVz87",
        "colab_type": "code",
        "outputId": "c5595fda-88b5-4bba-e323-a6d058e058f2",
        "colab": {}
      },
      "source": [
        "score = log_loss(y_test_IE, ie_test)\n",
        "print(score)"
      ],
      "execution_count": 0,
      "outputs": [
        {
          "output_type": "stream",
          "text": [
            "7.516046499396097\n"
          ],
          "name": "stdout"
        }
      ]
    },
    {
      "cell_type": "code",
      "metadata": {
        "id": "-SJ8yoiTVz9A",
        "colab_type": "code",
        "outputId": "6bf8b296-6b63-4215-adfe-fb555489455f",
        "colab": {}
      },
      "source": [
        "rfc = RandomForestClassifier(min_samples_leaf=1, min_samples_split=2, n_estimators=25, \n",
        "                             criterion='gini', bootstrap='True', n_jobs= -1, random_state=123)\n",
        "rfc.fit(X_train_NS_p, y_train_NS)\n",
        "print(\"TRAINING SET\")\n",
        "print(\"Accuracy: \", rfc.score(X_train_NS_p, y_train_NS))\n",
        "print(\"Confusion Matrix (counts):\")\n",
        "print(confusion_matrix(y_train_NS, rfc.predict(X_train_NS_p)))\n",
        "print(\"Classification Report:\")\n",
        "print(classification_report(y_train_NS, rfc.predict(X_train_NS_p)))\n",
        "print(\"\")\n",
        "\n",
        "ns_test = rfc.predict(X_test_NS_p)\n",
        "\n",
        "print(\"TEST SET\")\n",
        "print(\"Accuracy: \", rfc.score(X_test_NS_p, y_test_NS))\n",
        "print(\"Confusion Matrix (counts):\")\n",
        "print(confusion_matrix(y_test_NS, rfc.predict(X_test_NS_p)))\n",
        "print(\"Classification Report:\")\n",
        "print(classification_report(y_test_NS, rfc.predict(X_test_NS_p)))"
      ],
      "execution_count": 0,
      "outputs": [
        {
          "output_type": "stream",
          "text": [
            "TRAINING SET\n",
            "Accuracy:  0.9966185059944667\n",
            "Confusion Matrix (counts):\n",
            "[[ 880   22]\n",
            " [   0 5604]]\n",
            "Classification Report:\n",
            "              precision    recall  f1-score   support\n",
            "\n",
            "           0       1.00      0.98      0.99       902\n",
            "           1       1.00      1.00      1.00      5604\n",
            "\n",
            "   micro avg       1.00      1.00      1.00      6506\n",
            "   macro avg       1.00      0.99      0.99      6506\n",
            "weighted avg       1.00      1.00      1.00      6506\n",
            "\n",
            "\n",
            "TEST SET\n",
            "Accuracy:  0.8621484555094514\n",
            "Confusion Matrix (counts):\n",
            "[[   1  291]\n",
            " [   8 1869]]\n",
            "Classification Report:\n",
            "              precision    recall  f1-score   support\n",
            "\n",
            "           0       0.11      0.00      0.01       292\n",
            "           1       0.87      1.00      0.93      1877\n",
            "\n",
            "   micro avg       0.86      0.86      0.86      2169\n",
            "   macro avg       0.49      0.50      0.47      2169\n",
            "weighted avg       0.76      0.86      0.80      2169\n",
            "\n"
          ],
          "name": "stdout"
        }
      ]
    },
    {
      "cell_type": "code",
      "metadata": {
        "id": "0hREKi3KVz9T",
        "colab_type": "code",
        "outputId": "17662c7c-209e-48f4-cd75-37eb07d11368",
        "colab": {}
      },
      "source": [
        "rfc = RandomForestClassifier(min_samples_leaf=3, min_samples_split=2, n_estimators=86, \n",
        "                             criterion='entropy', bootstrap='False', n_jobs= -1, random_state=123)\n",
        "rfc.fit(X_train_TF_p, y_train_TF)\n",
        "print(\"TRAINING SET\")\n",
        "print(\"Accuracy: \", rfc.score(X_train_TF_p, y_train_TF))\n",
        "print(\"Confusion Matrix (counts):\")\n",
        "print(confusion_matrix(y_train_TF, rfc.predict(X_train_TF_p)))\n",
        "print(\"Classification Report:\")\n",
        "print(classification_report(y_train_TF, rfc.predict(X_train_TF_p)))\n",
        "print(\"\")\n",
        "\n",
        "tf_test = rfc.predict(X_test_TF_p)\n",
        "\n",
        "print(\"TEST SET\")\n",
        "print(\"Accuracy: \", rfc.score(X_test_TF_p, y_test_TF))\n",
        "print(\"Confusion Matrix (counts):\")\n",
        "print(confusion_matrix(y_test_TF, rfc.predict(X_test_TF_p)))\n",
        "print(\"Classification Report:\")\n",
        "print(classification_report(y_test_TF, rfc.predict(X_test_TF_p)))"
      ],
      "execution_count": 0,
      "outputs": [
        {
          "output_type": "stream",
          "text": [
            "TRAINING SET\n",
            "Accuracy:  1.0\n",
            "Confusion Matrix (counts):\n",
            "[[3489    0]\n",
            " [   0 3017]]\n",
            "Classification Report:\n",
            "              precision    recall  f1-score   support\n",
            "\n",
            "           0       1.00      1.00      1.00      3489\n",
            "           1       1.00      1.00      1.00      3017\n",
            "\n",
            "   micro avg       1.00      1.00      1.00      6506\n",
            "   macro avg       1.00      1.00      1.00      6506\n",
            "weighted avg       1.00      1.00      1.00      6506\n",
            "\n",
            "\n",
            "TEST SET\n",
            "Accuracy:  0.6500691562932227\n",
            "Confusion Matrix (counts):\n",
            "[[906 287]\n",
            " [472 504]]\n",
            "Classification Report:\n",
            "              precision    recall  f1-score   support\n",
            "\n",
            "           0       0.66      0.76      0.70      1193\n",
            "           1       0.64      0.52      0.57       976\n",
            "\n",
            "   micro avg       0.65      0.65      0.65      2169\n",
            "   macro avg       0.65      0.64      0.64      2169\n",
            "weighted avg       0.65      0.65      0.64      2169\n",
            "\n"
          ],
          "name": "stdout"
        }
      ]
    },
    {
      "cell_type": "code",
      "metadata": {
        "id": "M88JxN0EVz9n",
        "colab_type": "code",
        "outputId": "1cda0e17-9bd4-4496-8af7-92a4f99e67a9",
        "colab": {}
      },
      "source": [
        "rfc = RandomForestClassifier(min_samples_leaf=2, min_samples_split=2, n_estimators=85, \n",
        "                             criterion='entropy', bootstrap='False', n_jobs= -1, random_state=123)\n",
        "rfc.fit(X_train_JP_p, y_train_JP)\n",
        "print(\"TRAINING SET\")\n",
        "print(\"Accuracy: \", rfc.score(X_train_JP_p, y_train_JP))\n",
        "print(\"Confusion Matrix (counts):\")\n",
        "print(confusion_matrix(y_train_JP, rfc.predict(X_train_JP_p)))\n",
        "print(\"Classification Report:\")\n",
        "print(classification_report(y_train_JP, rfc.predict(X_train_JP_p)))\n",
        "print(\"\")\n",
        "\n",
        "jp_test = rfc.predict(X_test_JP_p)\n",
        "\n",
        "print(\"TEST SET\")\n",
        "print(\"Accuracy: \", rfc.score(X_test_JP_p, y_test_JP))\n",
        "print(\"Confusion Matrix (counts):\")\n",
        "print(confusion_matrix(y_test_JP, rfc.predict(X_test_JP_p)))\n",
        "print(\"Classification Report:\")\n",
        "print(classification_report(y_test_JP, rfc.predict(X_test_JP_p)))"
      ],
      "execution_count": 0,
      "outputs": [
        {
          "output_type": "stream",
          "text": [
            "TRAINING SET\n",
            "Accuracy:  1.0\n",
            "Confusion Matrix (counts):\n",
            "[[3938    0]\n",
            " [   0 2568]]\n",
            "Classification Report:\n",
            "              precision    recall  f1-score   support\n",
            "\n",
            "           0       1.00      1.00      1.00      3938\n",
            "           1       1.00      1.00      1.00      2568\n",
            "\n",
            "   micro avg       1.00      1.00      1.00      6506\n",
            "   macro avg       1.00      1.00      1.00      6506\n",
            "weighted avg       1.00      1.00      1.00      6506\n",
            "\n",
            "\n",
            "TEST SET\n",
            "Accuracy:  0.6196403872752421\n",
            "Confusion Matrix (counts):\n",
            "[[1247   72]\n",
            " [ 753   97]]\n",
            "Classification Report:\n",
            "              precision    recall  f1-score   support\n",
            "\n",
            "           0       0.62      0.95      0.75      1319\n",
            "           1       0.57      0.11      0.19       850\n",
            "\n",
            "   micro avg       0.62      0.62      0.62      2169\n",
            "   macro avg       0.60      0.53      0.47      2169\n",
            "weighted avg       0.60      0.62      0.53      2169\n",
            "\n"
          ],
          "name": "stdout"
        }
      ]
    },
    {
      "cell_type": "code",
      "metadata": {
        "id": "R-tx5gb0Vz9t",
        "colab_type": "code",
        "colab": {}
      },
      "source": [
        "#results = pd.DataFrame({'id':pred_id,'mind':ie_pred,'energy':ns_pred,'nature':tf_pred,'tactics':jp_pred})\n",
        "results = pd.DataFrame({'id':pred_id,'mind':ie_test,'energy':ns_test,'nature':tf_test,'tactics':jp_test})"
      ],
      "execution_count": 0,
      "outputs": []
    },
    {
      "cell_type": "code",
      "metadata": {
        "id": "7__c-2uVVz9x",
        "colab_type": "code",
        "outputId": "49d308ef-00b3-4051-e5e5-48a0d036df43",
        "colab": {}
      },
      "source": [
        "results.head()"
      ],
      "execution_count": 0,
      "outputs": [
        {
          "output_type": "execute_result",
          "data": {
            "text/html": [
              "<div>\n",
              "<style scoped>\n",
              "    .dataframe tbody tr th:only-of-type {\n",
              "        vertical-align: middle;\n",
              "    }\n",
              "\n",
              "    .dataframe tbody tr th {\n",
              "        vertical-align: top;\n",
              "    }\n",
              "\n",
              "    .dataframe thead th {\n",
              "        text-align: right;\n",
              "    }\n",
              "</style>\n",
              "<table border=\"1\" class=\"dataframe\">\n",
              "  <thead>\n",
              "    <tr style=\"text-align: right;\">\n",
              "      <th></th>\n",
              "      <th>id</th>\n",
              "      <th>mind</th>\n",
              "      <th>energy</th>\n",
              "      <th>nature</th>\n",
              "      <th>tactics</th>\n",
              "    </tr>\n",
              "  </thead>\n",
              "  <tbody>\n",
              "    <tr>\n",
              "      <th>0</th>\n",
              "      <td>1</td>\n",
              "      <td>0</td>\n",
              "      <td>1</td>\n",
              "      <td>1</td>\n",
              "      <td>0</td>\n",
              "    </tr>\n",
              "    <tr>\n",
              "      <th>1</th>\n",
              "      <td>2</td>\n",
              "      <td>0</td>\n",
              "      <td>1</td>\n",
              "      <td>1</td>\n",
              "      <td>0</td>\n",
              "    </tr>\n",
              "    <tr>\n",
              "      <th>2</th>\n",
              "      <td>3</td>\n",
              "      <td>0</td>\n",
              "      <td>1</td>\n",
              "      <td>1</td>\n",
              "      <td>0</td>\n",
              "    </tr>\n",
              "    <tr>\n",
              "      <th>3</th>\n",
              "      <td>4</td>\n",
              "      <td>0</td>\n",
              "      <td>0</td>\n",
              "      <td>0</td>\n",
              "      <td>0</td>\n",
              "    </tr>\n",
              "    <tr>\n",
              "      <th>4</th>\n",
              "      <td>5</td>\n",
              "      <td>0</td>\n",
              "      <td>1</td>\n",
              "      <td>0</td>\n",
              "      <td>0</td>\n",
              "    </tr>\n",
              "  </tbody>\n",
              "</table>\n",
              "</div>"
            ],
            "text/plain": [
              "   id  mind  energy  nature  tactics\n",
              "0   1     0       1       1        0\n",
              "1   2     0       1       1        0\n",
              "2   3     0       1       1        0\n",
              "3   4     0       0       0        0\n",
              "4   5     0       1       0        0"
            ]
          },
          "metadata": {
            "tags": []
          },
          "execution_count": 128
        }
      ]
    },
    {
      "cell_type": "code",
      "metadata": {
        "id": "YrPq6vn3Vz93",
        "colab_type": "code",
        "colab": {}
      },
      "source": [
        "results.to_csv('Kwazi_submition_Rfc.csv', index = False)"
      ],
      "execution_count": 0,
      "outputs": []
    },
    {
      "cell_type": "code",
      "metadata": {
        "id": "aNs8CxzuVz98",
        "colab_type": "code",
        "colab": {}
      },
      "source": [
        ""
      ],
      "execution_count": 0,
      "outputs": []
    }
  ]
}